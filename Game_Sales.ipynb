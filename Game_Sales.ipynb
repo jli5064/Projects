{
  "nbformat": 4,
  "nbformat_minor": 0,
  "metadata": {
    "kernelspec": {
      "display_name": "Python 3",
      "language": "python",
      "name": "python3"
    },
    "language_info": {
      "codemirror_mode": {
        "name": "ipython",
        "version": 3
      },
      "file_extension": ".py",
      "mimetype": "text/x-python",
      "name": "python",
      "nbconvert_exporter": "python",
      "pygments_lexer": "ipython3",
      "version": "3.7.9"
    },
    "colab": {
      "name": "Game Sales",
      "provenance": [],
      "collapsed_sections": [],
      "include_colab_link": true
    }
  },
  "cells": [
    {
      "cell_type": "markdown",
      "metadata": {
        "id": "view-in-github",
        "colab_type": "text"
      },
      "source": [
        "<a href=\"https://colab.research.google.com/github/jli5064/Projects/blob/main/Game_Sales.ipynb\" target=\"_parent\"><img src=\"https://colab.research.google.com/assets/colab-badge.svg\" alt=\"Open In Colab\"/></a>"
      ]
    },
    {
      "cell_type": "markdown",
      "metadata": {
        "id": "oppEesyZyvdY"
      },
      "source": [
        "# Game Sales\n",
        "\n"
      ]
    },
    {
      "cell_type": "code",
      "metadata": {
        "id": "ZuUr4CDqSbxU",
        "colab": {
          "base_uri": "https://localhost:8080/"
        },
        "outputId": "b0554289-4c6d-46ae-ba1b-c8d005a7732f"
      },
      "source": [
        "!git clone https://github.com/jli5064/Projects"
      ],
      "execution_count": null,
      "outputs": [
        {
          "output_type": "stream",
          "name": "stdout",
          "text": [
            "Cloning into 'Projects'...\n",
            "warning: You appear to have cloned an empty repository.\n"
          ]
        }
      ]
    },
    {
      "cell_type": "markdown",
      "metadata": {
        "id": "UtOTOZPDyvdd"
      },
      "source": [
        "<a id='research_question'></a>\n",
        "# Research Question"
      ]
    },
    {
      "cell_type": "markdown",
      "metadata": {
        "id": "38P4cnNXyvde"
      },
      "source": [
        "Which attribute of a video game (critic scores, user scores, etc.) is the biggest contributor to sales globally?"
      ]
    },
    {
      "cell_type": "markdown",
      "metadata": {
        "id": "90RwVu2EoiC1"
      },
      "source": [
        "#Background and Prior Work\n",
        "Playing video games has become a big part of people's lives, people play video games to relax and take a break from stressful work. Based on a study from 2017, there are 2.2 billion active video gamers around the world, and around half of them spend money playing games (1). I believe that there are several factors that determine how much people spend on video games and my goal is to identify which one is the primary contributor to people's video game related spendings.\n",
        "Before purchasing a video game, most consumers look at various reviews, such as critic scores and user scores, to determine whether or not they should spend their hard earned money on that particular game. However, does one of these main sources of opinion hold more influence over consumers, or is there an additional factor that influences the choice to purchase a game? According to the Metacritic website, there have been many games where the critic scores and user scores varied greatly (2). The purpose of this project is to find out which attribute holds a greater influence over whether or not a game will sell well. However, besides these main attributes, like user score and critic score, there can be other factors that influence game sales, such as cultural differences, income levels, and impulsiveness. The site webpals (3) states that \"Asian players spend 1.5 times more on games than North American players\", these regional differences, whether it be cultural or attitudes towards gaming, could be a significant factor to if a game will sell well or not. \n",
        "However, while the majority of video game consumers only purchase a video game once, the same cannot be said regarding the select few (known as \"whales\" within the industry) who bring in the majority of the revenue within Free-To-Play business models (4). \n",
        "\n",
        "\n",
        "References:\n",
        "- 1) https://cs-agents.com/blog/game-review-affect-game-purchases/\n",
        "- 2) https://www.metacritic.com/feature/game-critic-scores-vs-user-reviews\n",
        "- 3) https://www.webpals.com/mobile/webpals-mobile-asian-american-mobile-gamers/\n",
        "- 4) https://www.alistdaily.com/strategy/mobile-gaming-whales-fitting-new-descriptors/"
      ]
    },
    {
      "cell_type": "markdown",
      "metadata": {
        "id": "E1GBevpqovK6"
      },
      "source": [
        "#Hypothesis\n",
        "Out of the attributes that will be examined, user score will most heavily impact video game sales. User scores may be gauged through Amazon reviews, Steam reviews, and user Metacritic scores. In comparison to critic scores, the quantity of user ratings vastly outnumber critics. Thus, casual consumers are  immediately exposed more to user reviews on the internet. The information that both critic scores and user scores may not be reliable, but due to the vast amount of critical reviews per title, interested consumers have the option to look for commonalities throughout them and find the average consensus to how the majority feel about the game. Additionally, many video game distributors have user reviews on each games' page, allowing for potential buyers to see what others think, which gives user ratings more influence over a person's choice to buy a game. \n",
        "\n"
      ]
    },
    {
      "cell_type": "markdown",
      "metadata": {
        "id": "ntj5-9OOo5Wf"
      },
      "source": [
        "#Data \n",
        "The ideal dataset for this question would be one that has variables for critic score, user score, age rating, sales both globally and regionally, sales by platform, price, the development budget, and the marketing budget. It would also have more specific variables that accounts for other factors, such as average mental wellness and household income of a region, the cultural differences of the region, and the target audience of the title. These additional pieces of information could probably be found in another dataset that is not necessarily related to video games. It would have observations for all game titles, and the data would be collected from the sales records of game developers and retailers. The data would be organized in a structured or semi-structured format and tidy format that makes it easy to manipulate and read. \n",
        "\n",
        "Since I cannot feasibly and reliably collect a vast amount of data to analyze, I will depend on databases for datasets that have already been collected and organized by other parties. This data will ideally contain no personal information in order to retain the anonymity of each person who submitted information along with having each person's personal consent for their data to be used for research purposes, making it ethically usable for the purposes of our research project. Since the data would already be available on a public database, I would not have to take measures to securely store the data since anybody can access it already.  \n",
        "\n",
        "Most likely, even with the ideal dataset, I will not have enough to definitively prove causation. At best, I will be able to form a strong correlation among these variables and video game sales."
      ]
    },
    {
      "cell_type": "markdown",
      "metadata": {
        "id": "kEuJnLV845Jj"
      },
      "source": [
        "#Ethics and Privacy\n",
        "When answering the question regarding which attribute (critic score, user score, rating) affects video game sales the most, privacy will likely be maintained as there should be no identifying information that can be linked to a specific person due to the dataset only providing scores and ratings. The datasets that will be used will be taken from public online databases, so our group does not need to securely store the datasets I use since it is already available for anybody to download and examine.\n",
        "\n",
        "This study can help identify exactly which attribute affects video game sales the most. Stakeholders in this question are players, game developers, critics, and retailers. Knowing what affects game sales could help players better identify which games are worth purchasing and for developers to know what to target to increase the likelihood of people purchasing their games. It could also affect the sales numbers of retailers, the reputation of critics, and both of the above factors for game developers.\n",
        "\n",
        "This question will give us insight into what the average consumer of video games look like, and what drives them to spend money on gaming purchases. \n",
        "\n",
        "The information gained from this study could be used for negative purposes, such as designing a game that is not fun to play, yet is very profitable, or for using predatory tactics to manipulate players into spending the most money. However, this is not a concern for the project because game developers are already conducting this kind of research internally. Releasing the results of this study would then be of benefit to players, who would be better informed against predatory tactics, while being of little benefit to those who intend to use said tactics and are already researching this topic anyway."
      ]
    },
    {
      "cell_type": "markdown",
      "metadata": {
        "id": "KWWLdq8zyvde"
      },
      "source": [
        "# Setup"
      ]
    },
    {
      "cell_type": "code",
      "metadata": {
        "id": "HMZJIBtgyvde"
      },
      "source": [
        "import pandas as pd\n",
        "import seaborn as sns\n",
        "import matplotlib.pyplot as plt\n",
        "import numpy as np\n",
        "import copy\n",
        "import requests\n",
        "import io\n",
        "import patsy\n",
        "import statsmodels.api as sm\n",
        "from scipy.stats import pearsonr\n",
        "from scipy import stats"
      ],
      "execution_count": null,
      "outputs": []
    },
    {
      "cell_type": "markdown",
      "metadata": {
        "id": "cvs3yo8TS8Lw"
      },
      "source": [
        "# Dataset(s)"
      ]
    },
    {
      "cell_type": "markdown",
      "metadata": {
        "id": "kyB755UiS8Lw"
      },
      "source": [
        "\n",
        "Video Games Sales with Ratings\n",
        "https://www.kaggle.com/rush4ratio/video-game-sales-with-ratings\n",
        "\n",
        "Number of observations: 16719  \n",
        "Number of unique observations: 11563\n",
        "\n",
        "This dataset provides information about each game (publisher, genre, platform, year of release) along with the sales  in the NA, EU, JP, and other regions.\n",
        "\n"
      ]
    },
    {
      "cell_type": "markdown",
      "metadata": {
        "id": "QBPQQq0Jyvdf"
      },
      "source": [
        "# Data Cleaning"
      ]
    },
    {
      "cell_type": "markdown",
      "metadata": {
        "id": "aBmsIZ25S8Lx"
      },
      "source": [
        "After reading in the raw data, the first step is to find how many missing values there are, and in  which columns. Since there are not too many missing values in the columns for Name, Year of Release, Genre, and Publisher, the rows with missing values from these columns are dropped. The columns for Critic Score, Critic Count, User Score, Developer, and Rating have very many missing values. From the first few rows of the dataset I can see that there are two titles with missing values in all of these columns, Super Mario Bros. and Pokemon Red/Blue. Both of these titles are quite old, released in 1985 and 1996 respectively, so it may be that the high number of missing values is because many video game titles were released before the Critic Score, Critic Count, etc. could be tracked. Therefore, I may try to find in which year did all of these attributes start being tracked, and limit the scope of the data accordingly. "
      ]
    },
    {
      "cell_type": "code",
      "metadata": {
        "id": "aPbduW7WS8Lx",
        "colab": {
          "base_uri": "https://localhost:8080/",
          "height": 221
        },
        "outputId": "5024f1b8-b696-4c1c-8d14-8857b34fdbaf"
      },
      "source": [
        "#Using a Personal Access Token since the repo is private\n",
        "\n",
        "username = 'ezradtsang'\n",
        "token = 'e6f291f8e16d129bb8996cfefb0751b41edcd520'\n",
        "session = requests.Session()\n",
        "session.auth = (username, token)\n",
        "\n",
        "dl = session.get('https://raw.githubusercontent.com/COGS108/group070_wi21/main/Video_Games_Sales_as_at_22_Dec_2016.csv').content\n",
        "vg = pd.read_csv(io.StringIO(dl.decode('utf-8')))\n",
        "print(vg.shape)\n",
        "vg.head()"
      ],
      "execution_count": null,
      "outputs": [
        {
          "output_type": "stream",
          "text": [
            "(16719, 16)\n"
          ],
          "name": "stdout"
        },
        {
          "output_type": "execute_result",
          "data": {
            "text/html": [
              "<div>\n",
              "<style scoped>\n",
              "    .dataframe tbody tr th:only-of-type {\n",
              "        vertical-align: middle;\n",
              "    }\n",
              "\n",
              "    .dataframe tbody tr th {\n",
              "        vertical-align: top;\n",
              "    }\n",
              "\n",
              "    .dataframe thead th {\n",
              "        text-align: right;\n",
              "    }\n",
              "</style>\n",
              "<table border=\"1\" class=\"dataframe\">\n",
              "  <thead>\n",
              "    <tr style=\"text-align: right;\">\n",
              "      <th></th>\n",
              "      <th>Name</th>\n",
              "      <th>Platform</th>\n",
              "      <th>Year_of_Release</th>\n",
              "      <th>Genre</th>\n",
              "      <th>Publisher</th>\n",
              "      <th>NA_Sales</th>\n",
              "      <th>EU_Sales</th>\n",
              "      <th>JP_Sales</th>\n",
              "      <th>Other_Sales</th>\n",
              "      <th>Global_Sales</th>\n",
              "      <th>Critic_Score</th>\n",
              "      <th>Critic_Count</th>\n",
              "      <th>User_Score</th>\n",
              "      <th>User_Count</th>\n",
              "      <th>Developer</th>\n",
              "      <th>Rating</th>\n",
              "    </tr>\n",
              "  </thead>\n",
              "  <tbody>\n",
              "    <tr>\n",
              "      <th>0</th>\n",
              "      <td>Wii Sports</td>\n",
              "      <td>Wii</td>\n",
              "      <td>2006.0</td>\n",
              "      <td>Sports</td>\n",
              "      <td>Nintendo</td>\n",
              "      <td>41.36</td>\n",
              "      <td>28.96</td>\n",
              "      <td>3.77</td>\n",
              "      <td>8.45</td>\n",
              "      <td>82.53</td>\n",
              "      <td>76.0</td>\n",
              "      <td>51.0</td>\n",
              "      <td>8</td>\n",
              "      <td>322.0</td>\n",
              "      <td>Nintendo</td>\n",
              "      <td>E</td>\n",
              "    </tr>\n",
              "    <tr>\n",
              "      <th>1</th>\n",
              "      <td>Super Mario Bros.</td>\n",
              "      <td>NES</td>\n",
              "      <td>1985.0</td>\n",
              "      <td>Platform</td>\n",
              "      <td>Nintendo</td>\n",
              "      <td>29.08</td>\n",
              "      <td>3.58</td>\n",
              "      <td>6.81</td>\n",
              "      <td>0.77</td>\n",
              "      <td>40.24</td>\n",
              "      <td>NaN</td>\n",
              "      <td>NaN</td>\n",
              "      <td>NaN</td>\n",
              "      <td>NaN</td>\n",
              "      <td>NaN</td>\n",
              "      <td>NaN</td>\n",
              "    </tr>\n",
              "    <tr>\n",
              "      <th>2</th>\n",
              "      <td>Mario Kart Wii</td>\n",
              "      <td>Wii</td>\n",
              "      <td>2008.0</td>\n",
              "      <td>Racing</td>\n",
              "      <td>Nintendo</td>\n",
              "      <td>15.68</td>\n",
              "      <td>12.76</td>\n",
              "      <td>3.79</td>\n",
              "      <td>3.29</td>\n",
              "      <td>35.52</td>\n",
              "      <td>82.0</td>\n",
              "      <td>73.0</td>\n",
              "      <td>8.3</td>\n",
              "      <td>709.0</td>\n",
              "      <td>Nintendo</td>\n",
              "      <td>E</td>\n",
              "    </tr>\n",
              "    <tr>\n",
              "      <th>3</th>\n",
              "      <td>Wii Sports Resort</td>\n",
              "      <td>Wii</td>\n",
              "      <td>2009.0</td>\n",
              "      <td>Sports</td>\n",
              "      <td>Nintendo</td>\n",
              "      <td>15.61</td>\n",
              "      <td>10.93</td>\n",
              "      <td>3.28</td>\n",
              "      <td>2.95</td>\n",
              "      <td>32.77</td>\n",
              "      <td>80.0</td>\n",
              "      <td>73.0</td>\n",
              "      <td>8</td>\n",
              "      <td>192.0</td>\n",
              "      <td>Nintendo</td>\n",
              "      <td>E</td>\n",
              "    </tr>\n",
              "    <tr>\n",
              "      <th>4</th>\n",
              "      <td>Pokemon Red/Pokemon Blue</td>\n",
              "      <td>GB</td>\n",
              "      <td>1996.0</td>\n",
              "      <td>Role-Playing</td>\n",
              "      <td>Nintendo</td>\n",
              "      <td>11.27</td>\n",
              "      <td>8.89</td>\n",
              "      <td>10.22</td>\n",
              "      <td>1.00</td>\n",
              "      <td>31.37</td>\n",
              "      <td>NaN</td>\n",
              "      <td>NaN</td>\n",
              "      <td>NaN</td>\n",
              "      <td>NaN</td>\n",
              "      <td>NaN</td>\n",
              "      <td>NaN</td>\n",
              "    </tr>\n",
              "  </tbody>\n",
              "</table>\n",
              "</div>"
            ],
            "text/plain": [
              "                       Name Platform  ...  Developer Rating\n",
              "0                Wii Sports      Wii  ...   Nintendo      E\n",
              "1         Super Mario Bros.      NES  ...        NaN    NaN\n",
              "2            Mario Kart Wii      Wii  ...   Nintendo      E\n",
              "3         Wii Sports Resort      Wii  ...   Nintendo      E\n",
              "4  Pokemon Red/Pokemon Blue       GB  ...        NaN    NaN\n",
              "\n",
              "[5 rows x 16 columns]"
            ]
          },
          "metadata": {
            "tags": []
          },
          "execution_count": 85
        }
      ]
    },
    {
      "cell_type": "code",
      "metadata": {
        "colab": {
          "base_uri": "https://localhost:8080/"
        },
        "id": "oI9umO2C96ss",
        "outputId": "f8141197-90d3-488d-84d3-5dd995910b88"
      },
      "source": [
        "vg.isna().sum()"
      ],
      "execution_count": null,
      "outputs": [
        {
          "output_type": "execute_result",
          "data": {
            "text/plain": [
              "Name                  2\n",
              "Platform              0\n",
              "Year_of_Release     269\n",
              "Genre                 2\n",
              "Publisher            54\n",
              "NA_Sales              0\n",
              "EU_Sales              0\n",
              "JP_Sales              0\n",
              "Other_Sales           0\n",
              "Global_Sales          0\n",
              "Critic_Score       8582\n",
              "Critic_Count       8582\n",
              "User_Score         6704\n",
              "User_Count         9129\n",
              "Developer          6623\n",
              "Rating             6769\n",
              "dtype: int64"
            ]
          },
          "metadata": {
            "tags": []
          },
          "execution_count": 86
        }
      ]
    },
    {
      "cell_type": "code",
      "metadata": {
        "colab": {
          "base_uri": "https://localhost:8080/"
        },
        "id": "DK5r9KJwAKwM",
        "outputId": "bae51972-8f90-4b01-b124-ce0d78f732a7"
      },
      "source": [
        "vg = vg.dropna(axis='rows', subset=['Name', 'Year_of_Release', 'Genre', 'Publisher'])\n",
        "\n",
        "vg = vg.dropna(axis='rows', how='any')\n",
        "print(vg.shape)"
      ],
      "execution_count": null,
      "outputs": [
        {
          "output_type": "stream",
          "text": [
            "(6825, 16)\n"
          ],
          "name": "stdout"
        }
      ]
    },
    {
      "cell_type": "markdown",
      "metadata": {
        "id": "EzR8lKV1eZsL"
      },
      "source": [
        "Once the observations with any missing values are dropped, I need to check the data types."
      ]
    },
    {
      "cell_type": "code",
      "metadata": {
        "colab": {
          "base_uri": "https://localhost:8080/"
        },
        "id": "fLphbyqogj4R",
        "outputId": "fe4e5f16-6f33-487e-b6cc-84c3ca901e2d"
      },
      "source": [
        "vg.dtypes"
      ],
      "execution_count": null,
      "outputs": [
        {
          "output_type": "execute_result",
          "data": {
            "text/plain": [
              "Name                object\n",
              "Platform            object\n",
              "Year_of_Release    float64\n",
              "Genre               object\n",
              "Publisher           object\n",
              "NA_Sales           float64\n",
              "EU_Sales           float64\n",
              "JP_Sales           float64\n",
              "Other_Sales        float64\n",
              "Global_Sales       float64\n",
              "Critic_Score       float64\n",
              "Critic_Count       float64\n",
              "User_Score          object\n",
              "User_Count         float64\n",
              "Developer           object\n",
              "Rating              object\n",
              "dtype: object"
            ]
          },
          "metadata": {
            "tags": []
          },
          "execution_count": 88
        }
      ]
    },
    {
      "cell_type": "markdown",
      "metadata": {
        "id": "qcMhn1e3gn8I"
      },
      "source": [
        "For some reason, the data type of the User_Score column is Object. I need to make it a numeric type."
      ]
    },
    {
      "cell_type": "code",
      "metadata": {
        "id": "POqQvqD8epob"
      },
      "source": [
        "vg['User_Score'] = pd.to_numeric(vg['User_Score'])"
      ],
      "execution_count": null,
      "outputs": []
    },
    {
      "cell_type": "markdown",
      "metadata": {
        "id": "Y9G-8WdCgQEa"
      },
      "source": [
        "Checking the data types again, the User_Score column was successfully converted into the float64 data type."
      ]
    },
    {
      "cell_type": "code",
      "metadata": {
        "colab": {
          "base_uri": "https://localhost:8080/"
        },
        "id": "dtLe3GdygXnx",
        "outputId": "c6acba28-b0ab-4352-8f10-09718fac60c6"
      },
      "source": [
        "vg.dtypes"
      ],
      "execution_count": null,
      "outputs": [
        {
          "output_type": "execute_result",
          "data": {
            "text/plain": [
              "Name                object\n",
              "Platform            object\n",
              "Year_of_Release    float64\n",
              "Genre               object\n",
              "Publisher           object\n",
              "NA_Sales           float64\n",
              "EU_Sales           float64\n",
              "JP_Sales           float64\n",
              "Other_Sales        float64\n",
              "Global_Sales       float64\n",
              "Critic_Score       float64\n",
              "Critic_Count       float64\n",
              "User_Score         float64\n",
              "User_Count         float64\n",
              "Developer           object\n",
              "Rating              object\n",
              "dtype: object"
            ]
          },
          "metadata": {
            "tags": []
          },
          "execution_count": 90
        }
      ]
    },
    {
      "cell_type": "markdown",
      "metadata": {
        "id": "f9N6Dc52hLbS"
      },
      "source": [
        "Once the observations with any missing values are dropped, I sort by release date and find that there are games as old as Super Mario Bros. that do not have any missing attributes, so I will either have to work with the observations that have all the attributes (6825 observations, 16 attributes), or drop the attributes that had a lot of missing values (16416 observations, 10 attributes). "
      ]
    },
    {
      "cell_type": "code",
      "metadata": {
        "id": "FrqCG8iMeoGK"
      },
      "source": [
        "vg.sort_values(by=['Year_of_Release'])\n",
        "vg_clean_0 = copy.deepcopy(vg)\n",
        "vg_clean_1 = copy.deepcopy(vg)"
      ],
      "execution_count": null,
      "outputs": []
    },
    {
      "cell_type": "code",
      "metadata": {
        "colab": {
          "base_uri": "https://localhost:8080/",
          "height": 221
        },
        "id": "yDvUcBv-Fd06",
        "outputId": "973d8b16-7c98-4346-ea38-704435f62625"
      },
      "source": [
        "vg_clean_1 = vg_clean_1.dropna(axis='columns', how='any')\n",
        "print(vg_clean_1.shape)\n",
        "vg_clean_1.head()"
      ],
      "execution_count": null,
      "outputs": [
        {
          "output_type": "stream",
          "text": [
            "(6825, 16)\n"
          ],
          "name": "stdout"
        },
        {
          "output_type": "execute_result",
          "data": {
            "text/html": [
              "<div>\n",
              "<style scoped>\n",
              "    .dataframe tbody tr th:only-of-type {\n",
              "        vertical-align: middle;\n",
              "    }\n",
              "\n",
              "    .dataframe tbody tr th {\n",
              "        vertical-align: top;\n",
              "    }\n",
              "\n",
              "    .dataframe thead th {\n",
              "        text-align: right;\n",
              "    }\n",
              "</style>\n",
              "<table border=\"1\" class=\"dataframe\">\n",
              "  <thead>\n",
              "    <tr style=\"text-align: right;\">\n",
              "      <th></th>\n",
              "      <th>Name</th>\n",
              "      <th>Platform</th>\n",
              "      <th>Year_of_Release</th>\n",
              "      <th>Genre</th>\n",
              "      <th>Publisher</th>\n",
              "      <th>NA_Sales</th>\n",
              "      <th>EU_Sales</th>\n",
              "      <th>JP_Sales</th>\n",
              "      <th>Other_Sales</th>\n",
              "      <th>Global_Sales</th>\n",
              "      <th>Critic_Score</th>\n",
              "      <th>Critic_Count</th>\n",
              "      <th>User_Score</th>\n",
              "      <th>User_Count</th>\n",
              "      <th>Developer</th>\n",
              "      <th>Rating</th>\n",
              "    </tr>\n",
              "  </thead>\n",
              "  <tbody>\n",
              "    <tr>\n",
              "      <th>0</th>\n",
              "      <td>Wii Sports</td>\n",
              "      <td>Wii</td>\n",
              "      <td>2006.0</td>\n",
              "      <td>Sports</td>\n",
              "      <td>Nintendo</td>\n",
              "      <td>41.36</td>\n",
              "      <td>28.96</td>\n",
              "      <td>3.77</td>\n",
              "      <td>8.45</td>\n",
              "      <td>82.53</td>\n",
              "      <td>76.0</td>\n",
              "      <td>51.0</td>\n",
              "      <td>8.0</td>\n",
              "      <td>322.0</td>\n",
              "      <td>Nintendo</td>\n",
              "      <td>E</td>\n",
              "    </tr>\n",
              "    <tr>\n",
              "      <th>2</th>\n",
              "      <td>Mario Kart Wii</td>\n",
              "      <td>Wii</td>\n",
              "      <td>2008.0</td>\n",
              "      <td>Racing</td>\n",
              "      <td>Nintendo</td>\n",
              "      <td>15.68</td>\n",
              "      <td>12.76</td>\n",
              "      <td>3.79</td>\n",
              "      <td>3.29</td>\n",
              "      <td>35.52</td>\n",
              "      <td>82.0</td>\n",
              "      <td>73.0</td>\n",
              "      <td>8.3</td>\n",
              "      <td>709.0</td>\n",
              "      <td>Nintendo</td>\n",
              "      <td>E</td>\n",
              "    </tr>\n",
              "    <tr>\n",
              "      <th>3</th>\n",
              "      <td>Wii Sports Resort</td>\n",
              "      <td>Wii</td>\n",
              "      <td>2009.0</td>\n",
              "      <td>Sports</td>\n",
              "      <td>Nintendo</td>\n",
              "      <td>15.61</td>\n",
              "      <td>10.93</td>\n",
              "      <td>3.28</td>\n",
              "      <td>2.95</td>\n",
              "      <td>32.77</td>\n",
              "      <td>80.0</td>\n",
              "      <td>73.0</td>\n",
              "      <td>8.0</td>\n",
              "      <td>192.0</td>\n",
              "      <td>Nintendo</td>\n",
              "      <td>E</td>\n",
              "    </tr>\n",
              "    <tr>\n",
              "      <th>6</th>\n",
              "      <td>New Super Mario Bros.</td>\n",
              "      <td>DS</td>\n",
              "      <td>2006.0</td>\n",
              "      <td>Platform</td>\n",
              "      <td>Nintendo</td>\n",
              "      <td>11.28</td>\n",
              "      <td>9.14</td>\n",
              "      <td>6.50</td>\n",
              "      <td>2.88</td>\n",
              "      <td>29.80</td>\n",
              "      <td>89.0</td>\n",
              "      <td>65.0</td>\n",
              "      <td>8.5</td>\n",
              "      <td>431.0</td>\n",
              "      <td>Nintendo</td>\n",
              "      <td>E</td>\n",
              "    </tr>\n",
              "    <tr>\n",
              "      <th>7</th>\n",
              "      <td>Wii Play</td>\n",
              "      <td>Wii</td>\n",
              "      <td>2006.0</td>\n",
              "      <td>Misc</td>\n",
              "      <td>Nintendo</td>\n",
              "      <td>13.96</td>\n",
              "      <td>9.18</td>\n",
              "      <td>2.93</td>\n",
              "      <td>2.84</td>\n",
              "      <td>28.92</td>\n",
              "      <td>58.0</td>\n",
              "      <td>41.0</td>\n",
              "      <td>6.6</td>\n",
              "      <td>129.0</td>\n",
              "      <td>Nintendo</td>\n",
              "      <td>E</td>\n",
              "    </tr>\n",
              "  </tbody>\n",
              "</table>\n",
              "</div>"
            ],
            "text/plain": [
              "                    Name Platform  Year_of_Release  ... User_Count Developer  Rating\n",
              "0             Wii Sports      Wii           2006.0  ...      322.0  Nintendo       E\n",
              "2         Mario Kart Wii      Wii           2008.0  ...      709.0  Nintendo       E\n",
              "3      Wii Sports Resort      Wii           2009.0  ...      192.0  Nintendo       E\n",
              "6  New Super Mario Bros.       DS           2006.0  ...      431.0  Nintendo       E\n",
              "7               Wii Play      Wii           2006.0  ...      129.0  Nintendo       E\n",
              "\n",
              "[5 rows x 16 columns]"
            ]
          },
          "metadata": {
            "tags": []
          },
          "execution_count": 92
        }
      ]
    },
    {
      "cell_type": "markdown",
      "metadata": {
        "id": "xXJJ_mJTK16p"
      },
      "source": [
        "Since the option of dropping attributes doesn't leave many attributes that could answer our question, I will have to use the former option and drop observations that don't have the attributes Critic Score, Critic Count, etc."
      ]
    },
    {
      "cell_type": "code",
      "metadata": {
        "colab": {
          "base_uri": "https://localhost:8080/",
          "height": 204
        },
        "id": "tsPexdpzcV6k",
        "outputId": "06674bb9-e753-4a0c-a2bb-ee46a59ee5e9"
      },
      "source": [
        "vg_clean_0.head()"
      ],
      "execution_count": null,
      "outputs": [
        {
          "output_type": "execute_result",
          "data": {
            "text/html": [
              "<div>\n",
              "<style scoped>\n",
              "    .dataframe tbody tr th:only-of-type {\n",
              "        vertical-align: middle;\n",
              "    }\n",
              "\n",
              "    .dataframe tbody tr th {\n",
              "        vertical-align: top;\n",
              "    }\n",
              "\n",
              "    .dataframe thead th {\n",
              "        text-align: right;\n",
              "    }\n",
              "</style>\n",
              "<table border=\"1\" class=\"dataframe\">\n",
              "  <thead>\n",
              "    <tr style=\"text-align: right;\">\n",
              "      <th></th>\n",
              "      <th>Name</th>\n",
              "      <th>Platform</th>\n",
              "      <th>Year_of_Release</th>\n",
              "      <th>Genre</th>\n",
              "      <th>Publisher</th>\n",
              "      <th>NA_Sales</th>\n",
              "      <th>EU_Sales</th>\n",
              "      <th>JP_Sales</th>\n",
              "      <th>Other_Sales</th>\n",
              "      <th>Global_Sales</th>\n",
              "      <th>Critic_Score</th>\n",
              "      <th>Critic_Count</th>\n",
              "      <th>User_Score</th>\n",
              "      <th>User_Count</th>\n",
              "      <th>Developer</th>\n",
              "      <th>Rating</th>\n",
              "    </tr>\n",
              "  </thead>\n",
              "  <tbody>\n",
              "    <tr>\n",
              "      <th>0</th>\n",
              "      <td>Wii Sports</td>\n",
              "      <td>Wii</td>\n",
              "      <td>2006.0</td>\n",
              "      <td>Sports</td>\n",
              "      <td>Nintendo</td>\n",
              "      <td>41.36</td>\n",
              "      <td>28.96</td>\n",
              "      <td>3.77</td>\n",
              "      <td>8.45</td>\n",
              "      <td>82.53</td>\n",
              "      <td>76.0</td>\n",
              "      <td>51.0</td>\n",
              "      <td>8.0</td>\n",
              "      <td>322.0</td>\n",
              "      <td>Nintendo</td>\n",
              "      <td>E</td>\n",
              "    </tr>\n",
              "    <tr>\n",
              "      <th>2</th>\n",
              "      <td>Mario Kart Wii</td>\n",
              "      <td>Wii</td>\n",
              "      <td>2008.0</td>\n",
              "      <td>Racing</td>\n",
              "      <td>Nintendo</td>\n",
              "      <td>15.68</td>\n",
              "      <td>12.76</td>\n",
              "      <td>3.79</td>\n",
              "      <td>3.29</td>\n",
              "      <td>35.52</td>\n",
              "      <td>82.0</td>\n",
              "      <td>73.0</td>\n",
              "      <td>8.3</td>\n",
              "      <td>709.0</td>\n",
              "      <td>Nintendo</td>\n",
              "      <td>E</td>\n",
              "    </tr>\n",
              "    <tr>\n",
              "      <th>3</th>\n",
              "      <td>Wii Sports Resort</td>\n",
              "      <td>Wii</td>\n",
              "      <td>2009.0</td>\n",
              "      <td>Sports</td>\n",
              "      <td>Nintendo</td>\n",
              "      <td>15.61</td>\n",
              "      <td>10.93</td>\n",
              "      <td>3.28</td>\n",
              "      <td>2.95</td>\n",
              "      <td>32.77</td>\n",
              "      <td>80.0</td>\n",
              "      <td>73.0</td>\n",
              "      <td>8.0</td>\n",
              "      <td>192.0</td>\n",
              "      <td>Nintendo</td>\n",
              "      <td>E</td>\n",
              "    </tr>\n",
              "    <tr>\n",
              "      <th>6</th>\n",
              "      <td>New Super Mario Bros.</td>\n",
              "      <td>DS</td>\n",
              "      <td>2006.0</td>\n",
              "      <td>Platform</td>\n",
              "      <td>Nintendo</td>\n",
              "      <td>11.28</td>\n",
              "      <td>9.14</td>\n",
              "      <td>6.50</td>\n",
              "      <td>2.88</td>\n",
              "      <td>29.80</td>\n",
              "      <td>89.0</td>\n",
              "      <td>65.0</td>\n",
              "      <td>8.5</td>\n",
              "      <td>431.0</td>\n",
              "      <td>Nintendo</td>\n",
              "      <td>E</td>\n",
              "    </tr>\n",
              "    <tr>\n",
              "      <th>7</th>\n",
              "      <td>Wii Play</td>\n",
              "      <td>Wii</td>\n",
              "      <td>2006.0</td>\n",
              "      <td>Misc</td>\n",
              "      <td>Nintendo</td>\n",
              "      <td>13.96</td>\n",
              "      <td>9.18</td>\n",
              "      <td>2.93</td>\n",
              "      <td>2.84</td>\n",
              "      <td>28.92</td>\n",
              "      <td>58.0</td>\n",
              "      <td>41.0</td>\n",
              "      <td>6.6</td>\n",
              "      <td>129.0</td>\n",
              "      <td>Nintendo</td>\n",
              "      <td>E</td>\n",
              "    </tr>\n",
              "  </tbody>\n",
              "</table>\n",
              "</div>"
            ],
            "text/plain": [
              "                    Name Platform  Year_of_Release  ... User_Count Developer  Rating\n",
              "0             Wii Sports      Wii           2006.0  ...      322.0  Nintendo       E\n",
              "2         Mario Kart Wii      Wii           2008.0  ...      709.0  Nintendo       E\n",
              "3      Wii Sports Resort      Wii           2009.0  ...      192.0  Nintendo       E\n",
              "6  New Super Mario Bros.       DS           2006.0  ...      431.0  Nintendo       E\n",
              "7               Wii Play      Wii           2006.0  ...      129.0  Nintendo       E\n",
              "\n",
              "[5 rows x 16 columns]"
            ]
          },
          "metadata": {
            "tags": []
          },
          "execution_count": 93
        }
      ]
    },
    {
      "cell_type": "markdown",
      "metadata": {
        "id": "nNNP5AtyjYTn"
      },
      "source": [
        "Looking at the index of vg_clean_0, I can see that the index skips some numbers due to the rows I dropped. In order to keep things clean, I will reset the index to ensure there are no gaps between the indices. "
      ]
    },
    {
      "cell_type": "code",
      "metadata": {
        "colab": {
          "base_uri": "https://localhost:8080/",
          "height": 204
        },
        "id": "nLL2VMCGjuQq",
        "outputId": "9b4bba2d-6903-42d7-ac52-06bf479aa253"
      },
      "source": [
        "vg_clean_0 = vg_clean_0.reset_index(drop = True)\n",
        "vg_clean_0.head()"
      ],
      "execution_count": null,
      "outputs": [
        {
          "output_type": "execute_result",
          "data": {
            "text/html": [
              "<div>\n",
              "<style scoped>\n",
              "    .dataframe tbody tr th:only-of-type {\n",
              "        vertical-align: middle;\n",
              "    }\n",
              "\n",
              "    .dataframe tbody tr th {\n",
              "        vertical-align: top;\n",
              "    }\n",
              "\n",
              "    .dataframe thead th {\n",
              "        text-align: right;\n",
              "    }\n",
              "</style>\n",
              "<table border=\"1\" class=\"dataframe\">\n",
              "  <thead>\n",
              "    <tr style=\"text-align: right;\">\n",
              "      <th></th>\n",
              "      <th>Name</th>\n",
              "      <th>Platform</th>\n",
              "      <th>Year_of_Release</th>\n",
              "      <th>Genre</th>\n",
              "      <th>Publisher</th>\n",
              "      <th>NA_Sales</th>\n",
              "      <th>EU_Sales</th>\n",
              "      <th>JP_Sales</th>\n",
              "      <th>Other_Sales</th>\n",
              "      <th>Global_Sales</th>\n",
              "      <th>Critic_Score</th>\n",
              "      <th>Critic_Count</th>\n",
              "      <th>User_Score</th>\n",
              "      <th>User_Count</th>\n",
              "      <th>Developer</th>\n",
              "      <th>Rating</th>\n",
              "    </tr>\n",
              "  </thead>\n",
              "  <tbody>\n",
              "    <tr>\n",
              "      <th>0</th>\n",
              "      <td>Wii Sports</td>\n",
              "      <td>Wii</td>\n",
              "      <td>2006.0</td>\n",
              "      <td>Sports</td>\n",
              "      <td>Nintendo</td>\n",
              "      <td>41.36</td>\n",
              "      <td>28.96</td>\n",
              "      <td>3.77</td>\n",
              "      <td>8.45</td>\n",
              "      <td>82.53</td>\n",
              "      <td>76.0</td>\n",
              "      <td>51.0</td>\n",
              "      <td>8.0</td>\n",
              "      <td>322.0</td>\n",
              "      <td>Nintendo</td>\n",
              "      <td>E</td>\n",
              "    </tr>\n",
              "    <tr>\n",
              "      <th>1</th>\n",
              "      <td>Mario Kart Wii</td>\n",
              "      <td>Wii</td>\n",
              "      <td>2008.0</td>\n",
              "      <td>Racing</td>\n",
              "      <td>Nintendo</td>\n",
              "      <td>15.68</td>\n",
              "      <td>12.76</td>\n",
              "      <td>3.79</td>\n",
              "      <td>3.29</td>\n",
              "      <td>35.52</td>\n",
              "      <td>82.0</td>\n",
              "      <td>73.0</td>\n",
              "      <td>8.3</td>\n",
              "      <td>709.0</td>\n",
              "      <td>Nintendo</td>\n",
              "      <td>E</td>\n",
              "    </tr>\n",
              "    <tr>\n",
              "      <th>2</th>\n",
              "      <td>Wii Sports Resort</td>\n",
              "      <td>Wii</td>\n",
              "      <td>2009.0</td>\n",
              "      <td>Sports</td>\n",
              "      <td>Nintendo</td>\n",
              "      <td>15.61</td>\n",
              "      <td>10.93</td>\n",
              "      <td>3.28</td>\n",
              "      <td>2.95</td>\n",
              "      <td>32.77</td>\n",
              "      <td>80.0</td>\n",
              "      <td>73.0</td>\n",
              "      <td>8.0</td>\n",
              "      <td>192.0</td>\n",
              "      <td>Nintendo</td>\n",
              "      <td>E</td>\n",
              "    </tr>\n",
              "    <tr>\n",
              "      <th>3</th>\n",
              "      <td>New Super Mario Bros.</td>\n",
              "      <td>DS</td>\n",
              "      <td>2006.0</td>\n",
              "      <td>Platform</td>\n",
              "      <td>Nintendo</td>\n",
              "      <td>11.28</td>\n",
              "      <td>9.14</td>\n",
              "      <td>6.50</td>\n",
              "      <td>2.88</td>\n",
              "      <td>29.80</td>\n",
              "      <td>89.0</td>\n",
              "      <td>65.0</td>\n",
              "      <td>8.5</td>\n",
              "      <td>431.0</td>\n",
              "      <td>Nintendo</td>\n",
              "      <td>E</td>\n",
              "    </tr>\n",
              "    <tr>\n",
              "      <th>4</th>\n",
              "      <td>Wii Play</td>\n",
              "      <td>Wii</td>\n",
              "      <td>2006.0</td>\n",
              "      <td>Misc</td>\n",
              "      <td>Nintendo</td>\n",
              "      <td>13.96</td>\n",
              "      <td>9.18</td>\n",
              "      <td>2.93</td>\n",
              "      <td>2.84</td>\n",
              "      <td>28.92</td>\n",
              "      <td>58.0</td>\n",
              "      <td>41.0</td>\n",
              "      <td>6.6</td>\n",
              "      <td>129.0</td>\n",
              "      <td>Nintendo</td>\n",
              "      <td>E</td>\n",
              "    </tr>\n",
              "  </tbody>\n",
              "</table>\n",
              "</div>"
            ],
            "text/plain": [
              "                    Name Platform  Year_of_Release  ... User_Count Developer  Rating\n",
              "0             Wii Sports      Wii           2006.0  ...      322.0  Nintendo       E\n",
              "1         Mario Kart Wii      Wii           2008.0  ...      709.0  Nintendo       E\n",
              "2      Wii Sports Resort      Wii           2009.0  ...      192.0  Nintendo       E\n",
              "3  New Super Mario Bros.       DS           2006.0  ...      431.0  Nintendo       E\n",
              "4               Wii Play      Wii           2006.0  ...      129.0  Nintendo       E\n",
              "\n",
              "[5 rows x 16 columns]"
            ]
          },
          "metadata": {
            "tags": []
          },
          "execution_count": 94
        }
      ]
    },
    {
      "cell_type": "markdown",
      "metadata": {
        "id": "zgzJwIjicbrk"
      },
      "source": [
        "I also must consider the platform of the game title. Since the same game can have different sales numbers when it is sold on different platforms, I can  make another version of the dataset that combines the sales of title across all platforms using an aggregation."
      ]
    },
    {
      "cell_type": "code",
      "metadata": {
        "id": "obyEp1i0RzRX"
      },
      "source": [
        "vg_no_plat = vg_clean_0\n",
        "platform_aggregation = {'Name': 'first', 'Platform': 'first', 'Year_of_Release': 'first', 'Genre': 'first', 'Publisher': 'first', 'NA_Sales': 'sum', \n",
        "                        'EU_Sales': 'sum', 'JP_Sales': 'sum', 'Other_Sales': 'sum', 'Global_Sales': 'sum', 'Critic_Score': 'mean', \n",
        "                        'Critic_Count': 'sum', 'User_Score': 'mean', 'User_Count': 'sum', 'Developer': 'first', 'Rating': 'first'}\n",
        "vg_no_plat =  vg_no_plat.astype({'Critic_Score': 'float64', 'User_Score': 'float64'})\n",
        "vg_no_plat = vg_no_plat.groupby('Name').aggregate(platform_aggregation)\n",
        "vg_no_plat = vg_no_plat.drop(columns=['Platform'])\n",
        "vg_no_plat = vg_no_plat.reset_index(drop=True)"
      ],
      "execution_count": null,
      "outputs": []
    },
    {
      "cell_type": "markdown",
      "metadata": {
        "id": "NYP-Z71rc0r1"
      },
      "source": [
        "To make sure the aggregation worked, I check the game Grand Theft Auto V, which has released on many platforms, in both dataframes."
      ]
    },
    {
      "cell_type": "code",
      "metadata": {
        "colab": {
          "base_uri": "https://localhost:8080/",
          "height": 204
        },
        "id": "58J8ZlQ8aq2l",
        "outputId": "500d8c0e-38a5-4187-e810-561f8205cd7c"
      },
      "source": [
        "vg_clean_0.loc[vg_clean_0['Name'] == 'Grand Theft Auto V']"
      ],
      "execution_count": null,
      "outputs": [
        {
          "output_type": "execute_result",
          "data": {
            "text/html": [
              "<div>\n",
              "<style scoped>\n",
              "    .dataframe tbody tr th:only-of-type {\n",
              "        vertical-align: middle;\n",
              "    }\n",
              "\n",
              "    .dataframe tbody tr th {\n",
              "        vertical-align: top;\n",
              "    }\n",
              "\n",
              "    .dataframe thead th {\n",
              "        text-align: right;\n",
              "    }\n",
              "</style>\n",
              "<table border=\"1\" class=\"dataframe\">\n",
              "  <thead>\n",
              "    <tr style=\"text-align: right;\">\n",
              "      <th></th>\n",
              "      <th>Name</th>\n",
              "      <th>Platform</th>\n",
              "      <th>Year_of_Release</th>\n",
              "      <th>Genre</th>\n",
              "      <th>Publisher</th>\n",
              "      <th>NA_Sales</th>\n",
              "      <th>EU_Sales</th>\n",
              "      <th>JP_Sales</th>\n",
              "      <th>Other_Sales</th>\n",
              "      <th>Global_Sales</th>\n",
              "      <th>Critic_Score</th>\n",
              "      <th>Critic_Count</th>\n",
              "      <th>User_Score</th>\n",
              "      <th>User_Count</th>\n",
              "      <th>Developer</th>\n",
              "      <th>Rating</th>\n",
              "    </tr>\n",
              "  </thead>\n",
              "  <tbody>\n",
              "    <tr>\n",
              "      <th>10</th>\n",
              "      <td>Grand Theft Auto V</td>\n",
              "      <td>PS3</td>\n",
              "      <td>2013.0</td>\n",
              "      <td>Action</td>\n",
              "      <td>Take-Two Interactive</td>\n",
              "      <td>7.02</td>\n",
              "      <td>9.09</td>\n",
              "      <td>0.98</td>\n",
              "      <td>3.96</td>\n",
              "      <td>21.04</td>\n",
              "      <td>97.0</td>\n",
              "      <td>50.0</td>\n",
              "      <td>8.2</td>\n",
              "      <td>3994.0</td>\n",
              "      <td>Rockstar North</td>\n",
              "      <td>M</td>\n",
              "    </tr>\n",
              "    <tr>\n",
              "      <th>13</th>\n",
              "      <td>Grand Theft Auto V</td>\n",
              "      <td>X360</td>\n",
              "      <td>2013.0</td>\n",
              "      <td>Action</td>\n",
              "      <td>Take-Two Interactive</td>\n",
              "      <td>9.66</td>\n",
              "      <td>5.14</td>\n",
              "      <td>0.06</td>\n",
              "      <td>1.41</td>\n",
              "      <td>16.27</td>\n",
              "      <td>97.0</td>\n",
              "      <td>58.0</td>\n",
              "      <td>8.1</td>\n",
              "      <td>3711.0</td>\n",
              "      <td>Rockstar North</td>\n",
              "      <td>M</td>\n",
              "    </tr>\n",
              "    <tr>\n",
              "      <th>27</th>\n",
              "      <td>Grand Theft Auto V</td>\n",
              "      <td>PS4</td>\n",
              "      <td>2014.0</td>\n",
              "      <td>Action</td>\n",
              "      <td>Take-Two Interactive</td>\n",
              "      <td>3.96</td>\n",
              "      <td>6.31</td>\n",
              "      <td>0.38</td>\n",
              "      <td>1.97</td>\n",
              "      <td>12.61</td>\n",
              "      <td>97.0</td>\n",
              "      <td>66.0</td>\n",
              "      <td>8.3</td>\n",
              "      <td>2899.0</td>\n",
              "      <td>Rockstar North</td>\n",
              "      <td>M</td>\n",
              "    </tr>\n",
              "    <tr>\n",
              "      <th>118</th>\n",
              "      <td>Grand Theft Auto V</td>\n",
              "      <td>XOne</td>\n",
              "      <td>2014.0</td>\n",
              "      <td>Action</td>\n",
              "      <td>Take-Two Interactive</td>\n",
              "      <td>2.81</td>\n",
              "      <td>2.19</td>\n",
              "      <td>0.00</td>\n",
              "      <td>0.47</td>\n",
              "      <td>5.48</td>\n",
              "      <td>97.0</td>\n",
              "      <td>14.0</td>\n",
              "      <td>7.9</td>\n",
              "      <td>764.0</td>\n",
              "      <td>Rockstar North</td>\n",
              "      <td>M</td>\n",
              "    </tr>\n",
              "    <tr>\n",
              "      <th>1100</th>\n",
              "      <td>Grand Theft Auto V</td>\n",
              "      <td>PC</td>\n",
              "      <td>2015.0</td>\n",
              "      <td>Action</td>\n",
              "      <td>Take-Two Interactive</td>\n",
              "      <td>0.39</td>\n",
              "      <td>0.69</td>\n",
              "      <td>0.00</td>\n",
              "      <td>0.09</td>\n",
              "      <td>1.17</td>\n",
              "      <td>96.0</td>\n",
              "      <td>57.0</td>\n",
              "      <td>7.9</td>\n",
              "      <td>3756.0</td>\n",
              "      <td>Rockstar North</td>\n",
              "      <td>M</td>\n",
              "    </tr>\n",
              "  </tbody>\n",
              "</table>\n",
              "</div>"
            ],
            "text/plain": [
              "                    Name Platform  ...       Developer Rating\n",
              "10    Grand Theft Auto V      PS3  ...  Rockstar North      M\n",
              "13    Grand Theft Auto V     X360  ...  Rockstar North      M\n",
              "27    Grand Theft Auto V      PS4  ...  Rockstar North      M\n",
              "118   Grand Theft Auto V     XOne  ...  Rockstar North      M\n",
              "1100  Grand Theft Auto V       PC  ...  Rockstar North      M\n",
              "\n",
              "[5 rows x 16 columns]"
            ]
          },
          "metadata": {
            "tags": []
          },
          "execution_count": 96
        }
      ]
    },
    {
      "cell_type": "code",
      "metadata": {
        "colab": {
          "base_uri": "https://localhost:8080/",
          "height": 80
        },
        "id": "Lzq5RhxPa-SE",
        "outputId": "05c58435-cb9f-4929-9354-d5f13cde1218"
      },
      "source": [
        "vg_no_plat.loc[vg_no_plat['Name'] == 'Grand Theft Auto V']"
      ],
      "execution_count": null,
      "outputs": [
        {
          "output_type": "execute_result",
          "data": {
            "text/html": [
              "<div>\n",
              "<style scoped>\n",
              "    .dataframe tbody tr th:only-of-type {\n",
              "        vertical-align: middle;\n",
              "    }\n",
              "\n",
              "    .dataframe tbody tr th {\n",
              "        vertical-align: top;\n",
              "    }\n",
              "\n",
              "    .dataframe thead th {\n",
              "        text-align: right;\n",
              "    }\n",
              "</style>\n",
              "<table border=\"1\" class=\"dataframe\">\n",
              "  <thead>\n",
              "    <tr style=\"text-align: right;\">\n",
              "      <th></th>\n",
              "      <th>Name</th>\n",
              "      <th>Year_of_Release</th>\n",
              "      <th>Genre</th>\n",
              "      <th>Publisher</th>\n",
              "      <th>NA_Sales</th>\n",
              "      <th>EU_Sales</th>\n",
              "      <th>JP_Sales</th>\n",
              "      <th>Other_Sales</th>\n",
              "      <th>Global_Sales</th>\n",
              "      <th>Critic_Score</th>\n",
              "      <th>Critic_Count</th>\n",
              "      <th>User_Score</th>\n",
              "      <th>User_Count</th>\n",
              "      <th>Developer</th>\n",
              "      <th>Rating</th>\n",
              "    </tr>\n",
              "  </thead>\n",
              "  <tbody>\n",
              "    <tr>\n",
              "      <th>1491</th>\n",
              "      <td>Grand Theft Auto V</td>\n",
              "      <td>2013.0</td>\n",
              "      <td>Action</td>\n",
              "      <td>Take-Two Interactive</td>\n",
              "      <td>23.84</td>\n",
              "      <td>23.42</td>\n",
              "      <td>1.42</td>\n",
              "      <td>7.9</td>\n",
              "      <td>56.57</td>\n",
              "      <td>96.8</td>\n",
              "      <td>245.0</td>\n",
              "      <td>8.08</td>\n",
              "      <td>15124.0</td>\n",
              "      <td>Rockstar North</td>\n",
              "      <td>M</td>\n",
              "    </tr>\n",
              "  </tbody>\n",
              "</table>\n",
              "</div>"
            ],
            "text/plain": [
              "                    Name  Year_of_Release  ...       Developer Rating\n",
              "1491  Grand Theft Auto V           2013.0  ...  Rockstar North      M\n",
              "\n",
              "[1 rows x 15 columns]"
            ]
          },
          "metadata": {
            "tags": []
          },
          "execution_count": 97
        }
      ]
    },
    {
      "cell_type": "markdown",
      "metadata": {
        "id": "N9dq9NtNt2S4"
      },
      "source": [
        "The aggregation was successful."
      ]
    },
    {
      "cell_type": "code",
      "metadata": {
        "colab": {
          "base_uri": "https://localhost:8080/",
          "height": 297
        },
        "id": "f0G4jqYUJXkz",
        "outputId": "c845c0bd-fbc3-41a8-d7ff-f886b83e3778"
      },
      "source": [
        "sns.scatterplot(x='Critic_Score', y='Global_Sales' , data=vg_clean_0)"
      ],
      "execution_count": null,
      "outputs": [
        {
          "output_type": "execute_result",
          "data": {
            "text/plain": [
              "<matplotlib.axes._subplots.AxesSubplot at 0x7f3ddf242050>"
            ]
          },
          "metadata": {
            "tags": []
          },
          "execution_count": 98
        },
        {
          "output_type": "display_data",
          "data": {
            "image/png": "[encoded data removed]",
            "text/plain": [
              "<Figure size 432x288 with 1 Axes>"
            ]
          },
          "metadata": {
            "tags": [],
            "needs_background": "light"
          }
        }
      ]
    },
    {
      "cell_type": "markdown",
      "metadata": {
        "id": "eKOcTCrwJZz6"
      },
      "source": [
        "Looking at the scatterplot of Critic_Score and Global_Sales, I can see that there are several games where the Global Sale has been inputted at a value of 0. What this means is that the data is not available for those titles since they were not recorded at the time. Due to this, I will be removing the games with a value for 0 in sales when comparing it to the game features. "
      ]
    },
    {
      "cell_type": "code",
      "metadata": {
        "colab": {
          "base_uri": "https://localhost:8080/",
          "height": 297
        },
        "id": "qHEd16T1JcrS",
        "outputId": "3e018208-faf5-4662-ad61-7cf73881b9b7"
      },
      "source": [
        "global_sales_cleaned = vg_clean_0[vg_clean_0.get('Global_Sales')>0]\n",
        "\n",
        "sns.scatterplot(x='Critic_Score', y='Global_Sales', data=global_sales_cleaned)"
      ],
      "execution_count": null,
      "outputs": [
        {
          "output_type": "execute_result",
          "data": {
            "text/plain": [
              "<matplotlib.axes._subplots.AxesSubplot at 0x7f3ddf19b050>"
            ]
          },
          "metadata": {
            "tags": []
          },
          "execution_count": 99
        },
        {
          "output_type": "display_data",
          "data": {
            "image/png": "[encoded data removed]",
            "text/plain": [
              "<Figure size 432x288 with 1 Axes>"
            ]
          },
          "metadata": {
            "tags": [],
            "needs_background": "light"
          }
        }
      ]
    },
    {
      "cell_type": "code",
      "metadata": {
        "colab": {
          "base_uri": "https://localhost:8080/",
          "height": 80
        },
        "id": "hJp3uQeyPJ1g",
        "outputId": "964a2630-4c2b-4a0e-dcec-17dac0118280"
      },
      "source": [
        "#There's a point that is much higher than all the others, with over 80 million global sales.\n",
        "vg_clean_0[vg_clean_0.get('Global_Sales')>60]"
      ],
      "execution_count": null,
      "outputs": [
        {
          "output_type": "execute_result",
          "data": {
            "text/html": [
              "<div>\n",
              "<style scoped>\n",
              "    .dataframe tbody tr th:only-of-type {\n",
              "        vertical-align: middle;\n",
              "    }\n",
              "\n",
              "    .dataframe tbody tr th {\n",
              "        vertical-align: top;\n",
              "    }\n",
              "\n",
              "    .dataframe thead th {\n",
              "        text-align: right;\n",
              "    }\n",
              "</style>\n",
              "<table border=\"1\" class=\"dataframe\">\n",
              "  <thead>\n",
              "    <tr style=\"text-align: right;\">\n",
              "      <th></th>\n",
              "      <th>Name</th>\n",
              "      <th>Platform</th>\n",
              "      <th>Year_of_Release</th>\n",
              "      <th>Genre</th>\n",
              "      <th>Publisher</th>\n",
              "      <th>NA_Sales</th>\n",
              "      <th>EU_Sales</th>\n",
              "      <th>JP_Sales</th>\n",
              "      <th>Other_Sales</th>\n",
              "      <th>Global_Sales</th>\n",
              "      <th>Critic_Score</th>\n",
              "      <th>Critic_Count</th>\n",
              "      <th>User_Score</th>\n",
              "      <th>User_Count</th>\n",
              "      <th>Developer</th>\n",
              "      <th>Rating</th>\n",
              "    </tr>\n",
              "  </thead>\n",
              "  <tbody>\n",
              "    <tr>\n",
              "      <th>0</th>\n",
              "      <td>Wii Sports</td>\n",
              "      <td>Wii</td>\n",
              "      <td>2006.0</td>\n",
              "      <td>Sports</td>\n",
              "      <td>Nintendo</td>\n",
              "      <td>41.36</td>\n",
              "      <td>28.96</td>\n",
              "      <td>3.77</td>\n",
              "      <td>8.45</td>\n",
              "      <td>82.53</td>\n",
              "      <td>76.0</td>\n",
              "      <td>51.0</td>\n",
              "      <td>8.0</td>\n",
              "      <td>322.0</td>\n",
              "      <td>Nintendo</td>\n",
              "      <td>E</td>\n",
              "    </tr>\n",
              "  </tbody>\n",
              "</table>\n",
              "</div>"
            ],
            "text/plain": [
              "         Name Platform  Year_of_Release  ... User_Count Developer  Rating\n",
              "0  Wii Sports      Wii           2006.0  ...      322.0  Nintendo       E\n",
              "\n",
              "[1 rows x 16 columns]"
            ]
          },
          "metadata": {
            "tags": []
          },
          "execution_count": 100
        }
      ]
    },
    {
      "cell_type": "markdown",
      "metadata": {
        "id": "UK_f3iRaPhhT"
      },
      "source": [
        "After looking up this game and researching more about it, Wii Sports' massive sales numbers can be explained by the fact that it was bundled with the purchase of a Wii console as well as its wide appeal even to those that may not consider themselves as \"video-gamers\". Additionally, the Wii was very a very popular console when it was first released due to it having innovative motion detecting controls. Since the Wii console was a new, trendy console on release, players were probably choosing to buy the Wii because of the console itself, and not because of Wii Sports."
      ]
    },
    {
      "cell_type": "code",
      "metadata": {
        "colab": {
          "base_uri": "https://localhost:8080/",
          "height": 80
        },
        "id": "VPsIUsd6uVKZ",
        "outputId": "8e0b5f35-fe02-4d86-eba8-c749ada6d687"
      },
      "source": [
        "#Let's compare Wii Sports to another popular game.\n",
        "\n",
        "vg_clean_0[vg_clean_0.get('Name') == 'Wii Sports']"
      ],
      "execution_count": null,
      "outputs": [
        {
          "output_type": "execute_result",
          "data": {
            "text/html": [
              "<div>\n",
              "<style scoped>\n",
              "    .dataframe tbody tr th:only-of-type {\n",
              "        vertical-align: middle;\n",
              "    }\n",
              "\n",
              "    .dataframe tbody tr th {\n",
              "        vertical-align: top;\n",
              "    }\n",
              "\n",
              "    .dataframe thead th {\n",
              "        text-align: right;\n",
              "    }\n",
              "</style>\n",
              "<table border=\"1\" class=\"dataframe\">\n",
              "  <thead>\n",
              "    <tr style=\"text-align: right;\">\n",
              "      <th></th>\n",
              "      <th>Name</th>\n",
              "      <th>Platform</th>\n",
              "      <th>Year_of_Release</th>\n",
              "      <th>Genre</th>\n",
              "      <th>Publisher</th>\n",
              "      <th>NA_Sales</th>\n",
              "      <th>EU_Sales</th>\n",
              "      <th>JP_Sales</th>\n",
              "      <th>Other_Sales</th>\n",
              "      <th>Global_Sales</th>\n",
              "      <th>Critic_Score</th>\n",
              "      <th>Critic_Count</th>\n",
              "      <th>User_Score</th>\n",
              "      <th>User_Count</th>\n",
              "      <th>Developer</th>\n",
              "      <th>Rating</th>\n",
              "    </tr>\n",
              "  </thead>\n",
              "  <tbody>\n",
              "    <tr>\n",
              "      <th>0</th>\n",
              "      <td>Wii Sports</td>\n",
              "      <td>Wii</td>\n",
              "      <td>2006.0</td>\n",
              "      <td>Sports</td>\n",
              "      <td>Nintendo</td>\n",
              "      <td>41.36</td>\n",
              "      <td>28.96</td>\n",
              "      <td>3.77</td>\n",
              "      <td>8.45</td>\n",
              "      <td>82.53</td>\n",
              "      <td>76.0</td>\n",
              "      <td>51.0</td>\n",
              "      <td>8.0</td>\n",
              "      <td>322.0</td>\n",
              "      <td>Nintendo</td>\n",
              "      <td>E</td>\n",
              "    </tr>\n",
              "  </tbody>\n",
              "</table>\n",
              "</div>"
            ],
            "text/plain": [
              "         Name Platform  Year_of_Release  ... User_Count Developer  Rating\n",
              "0  Wii Sports      Wii           2006.0  ...      322.0  Nintendo       E\n",
              "\n",
              "[1 rows x 16 columns]"
            ]
          },
          "metadata": {
            "tags": []
          },
          "execution_count": 101
        }
      ]
    },
    {
      "cell_type": "code",
      "metadata": {
        "colab": {
          "base_uri": "https://localhost:8080/",
          "height": 80
        },
        "id": "Wv6o1FrAu9MR",
        "outputId": "89f3433e-f2d2-4013-91e2-0b56513cbf45"
      },
      "source": [
        "vg_no_plat[vg_no_plat.get('Name') == 'Grand Theft Auto V']"
      ],
      "execution_count": null,
      "outputs": [
        {
          "output_type": "execute_result",
          "data": {
            "text/html": [
              "<div>\n",
              "<style scoped>\n",
              "    .dataframe tbody tr th:only-of-type {\n",
              "        vertical-align: middle;\n",
              "    }\n",
              "\n",
              "    .dataframe tbody tr th {\n",
              "        vertical-align: top;\n",
              "    }\n",
              "\n",
              "    .dataframe thead th {\n",
              "        text-align: right;\n",
              "    }\n",
              "</style>\n",
              "<table border=\"1\" class=\"dataframe\">\n",
              "  <thead>\n",
              "    <tr style=\"text-align: right;\">\n",
              "      <th></th>\n",
              "      <th>Name</th>\n",
              "      <th>Year_of_Release</th>\n",
              "      <th>Genre</th>\n",
              "      <th>Publisher</th>\n",
              "      <th>NA_Sales</th>\n",
              "      <th>EU_Sales</th>\n",
              "      <th>JP_Sales</th>\n",
              "      <th>Other_Sales</th>\n",
              "      <th>Global_Sales</th>\n",
              "      <th>Critic_Score</th>\n",
              "      <th>Critic_Count</th>\n",
              "      <th>User_Score</th>\n",
              "      <th>User_Count</th>\n",
              "      <th>Developer</th>\n",
              "      <th>Rating</th>\n",
              "    </tr>\n",
              "  </thead>\n",
              "  <tbody>\n",
              "    <tr>\n",
              "      <th>1491</th>\n",
              "      <td>Grand Theft Auto V</td>\n",
              "      <td>2013.0</td>\n",
              "      <td>Action</td>\n",
              "      <td>Take-Two Interactive</td>\n",
              "      <td>23.84</td>\n",
              "      <td>23.42</td>\n",
              "      <td>1.42</td>\n",
              "      <td>7.9</td>\n",
              "      <td>56.57</td>\n",
              "      <td>96.8</td>\n",
              "      <td>245.0</td>\n",
              "      <td>8.08</td>\n",
              "      <td>15124.0</td>\n",
              "      <td>Rockstar North</td>\n",
              "      <td>M</td>\n",
              "    </tr>\n",
              "  </tbody>\n",
              "</table>\n",
              "</div>"
            ],
            "text/plain": [
              "                    Name  Year_of_Release  ...       Developer Rating\n",
              "1491  Grand Theft Auto V           2013.0  ...  Rockstar North      M\n",
              "\n",
              "[1 rows x 15 columns]"
            ]
          },
          "metadata": {
            "tags": []
          },
          "execution_count": 102
        }
      ]
    },
    {
      "cell_type": "markdown",
      "metadata": {
        "id": "Gd4XPvZeuSeH"
      },
      "source": [
        "Comparing the User Count attributes of Wii Sports and another high-selling game, Grand Theft Auto V, supports the explanation that consumers purchased the Wii for the console itself, not for Wii Sports. GTA V has more than 15 thousand user reviews, while Wii Sports only has 322."
      ]
    },
    {
      "cell_type": "code",
      "metadata": {
        "id": "DA9n7bDtREF_",
        "colab": {
          "base_uri": "https://localhost:8080/",
          "height": 297
        },
        "outputId": "135cb5ab-db20-443b-da11-732fc6a06b3d"
      },
      "source": [
        "#A graph without the Wii Sports outlier\n",
        "global_sales_cleaned = vg_clean_0[vg_clean_0.get('Global_Sales')<40]\n",
        "critic = global_sales_cleaned['Critic_Score'].astype('float64')\n",
        "sns.scatterplot(x=critic, y='Global_Sales', data=global_sales_cleaned)"
      ],
      "execution_count": null,
      "outputs": [
        {
          "output_type": "execute_result",
          "data": {
            "text/plain": [
              "<matplotlib.axes._subplots.AxesSubplot at 0x7f3ddf17ae90>"
            ]
          },
          "metadata": {
            "tags": []
          },
          "execution_count": 103
        },
        {
          "output_type": "display_data",
          "data": {
            "image/png": "[encoded data removed]",
            "text/plain": [
              "<Figure size 432x288 with 1 Axes>"
            ]
          },
          "metadata": {
            "tags": [],
            "needs_background": "light"
          }
        }
      ]
    },
    {
      "cell_type": "code",
      "metadata": {
        "colab": {
          "base_uri": "https://localhost:8080/",
          "height": 287
        },
        "id": "FFHArla5-p-E",
        "outputId": "7d09dbd3-ff2c-4944-8357-0f7f6a410c86"
      },
      "source": [
        "#Now to compare User Score and Global Sales\n",
        "user = global_sales_cleaned['User_Score'].astype('float64')\n",
        "sns.scatterplot(x=user, y='Global_Sales', data=global_sales_cleaned).set_xticklabels([])"
      ],
      "execution_count": null,
      "outputs": [
        {
          "output_type": "execute_result",
          "data": {
            "text/plain": [
              "[]"
            ]
          },
          "metadata": {
            "tags": []
          },
          "execution_count": 104
        },
        {
          "output_type": "display_data",
          "data": {
            "image/png": "[encoded data removed]",
            "text/plain": [
              "<Figure size 432x288 with 1 Axes>"
            ]
          },
          "metadata": {
            "tags": [],
            "needs_background": "light"
          }
        }
      ]
    },
    {
      "cell_type": "markdown",
      "metadata": {
        "id": "Ns4DE_ec4-R0"
      },
      "source": [
        "The scatterplot of User Score and Global Sales is very similar to that of Critic Score and Global Sales.\n",
        "\n",
        "I can also look at how critic score is related to user score. There is a significant, moderate positive correlation between the two attributes, with a Pearson coefficient of 0.58 and a p-value of 0.0. The p-value being below 0.05 thus means there is a significant difference between both variables. "
      ]
    },
    {
      "cell_type": "code",
      "metadata": {
        "colab": {
          "base_uri": "https://localhost:8080/",
          "height": 234
        },
        "id": "WHKyD6pc1jne",
        "outputId": "5381b332-a53a-42bc-a607-9e859886f5f3"
      },
      "source": [
        "sns.scatterplot(x='Critic_Score', y='User_Score', data=global_sales_cleaned).set_yticklabels([])\n",
        "\n",
        "from scipy.stats import pearsonr\n",
        "pearsonr(critic, user)"
      ],
      "execution_count": null,
      "outputs": [
        {
          "output_type": "error",
          "ename": "NameError",
          "evalue": "ignored",
          "traceback": [
            "\u001b[0;31m---------------------------------------------------------------------------\u001b[0m",
            "\u001b[0;31mNameError\u001b[0m                                 Traceback (most recent call last)",
            "\u001b[0;32m<ipython-input-1-7bc5a0c9bee1>\u001b[0m in \u001b[0;36m<module>\u001b[0;34m()\u001b[0m\n\u001b[0;32m----> 1\u001b[0;31m \u001b[0msns\u001b[0m\u001b[0;34m.\u001b[0m\u001b[0mscatterplot\u001b[0m\u001b[0;34m(\u001b[0m\u001b[0mx\u001b[0m\u001b[0;34m=\u001b[0m\u001b[0;34m'Critic_Score'\u001b[0m\u001b[0;34m,\u001b[0m \u001b[0my\u001b[0m\u001b[0;34m=\u001b[0m\u001b[0;34m'User_Score'\u001b[0m\u001b[0;34m,\u001b[0m \u001b[0mdata\u001b[0m\u001b[0;34m=\u001b[0m\u001b[0mglobal_sales_cleaned\u001b[0m\u001b[0;34m)\u001b[0m\u001b[0;34m.\u001b[0m\u001b[0mset_yticklabels\u001b[0m\u001b[0;34m(\u001b[0m\u001b[0;34m[\u001b[0m\u001b[0;34m]\u001b[0m\u001b[0;34m)\u001b[0m\u001b[0;34m\u001b[0m\u001b[0;34m\u001b[0m\u001b[0m\n\u001b[0m\u001b[1;32m      2\u001b[0m \u001b[0;34m\u001b[0m\u001b[0m\n\u001b[1;32m      3\u001b[0m \u001b[0;32mfrom\u001b[0m \u001b[0mscipy\u001b[0m\u001b[0;34m.\u001b[0m\u001b[0mstats\u001b[0m \u001b[0;32mimport\u001b[0m \u001b[0mpearsonr\u001b[0m\u001b[0;34m\u001b[0m\u001b[0;34m\u001b[0m\u001b[0m\n\u001b[1;32m      4\u001b[0m \u001b[0mpearsonr\u001b[0m\u001b[0;34m(\u001b[0m\u001b[0mcritic\u001b[0m\u001b[0;34m,\u001b[0m \u001b[0muser\u001b[0m\u001b[0;34m)\u001b[0m\u001b[0;34m\u001b[0m\u001b[0;34m\u001b[0m\u001b[0m\n",
            "\u001b[0;31mNameError\u001b[0m: name 'sns' is not defined"
          ]
        }
      ]
    },
    {
      "cell_type": "markdown",
      "metadata": {
        "id": "cpfmGkVTNWJe"
      },
      "source": [
        "Both the distributions of the critic and user scores are skewed left, but the user scores are more skewed."
      ]
    },
    {
      "cell_type": "code",
      "metadata": {
        "colab": {
          "base_uri": "https://localhost:8080/",
          "height": 386
        },
        "id": "1fGv1UJb9NG0",
        "outputId": "21e76e5c-5a2d-47d1-d4ba-0c8c592b3559"
      },
      "source": [
        "sns.displot(critic)"
      ],
      "execution_count": null,
      "outputs": [
        {
          "output_type": "execute_result",
          "data": {
            "text/plain": [
              "<seaborn.axisgrid.FacetGrid at 0x7f3ddf06f710>"
            ]
          },
          "metadata": {
            "tags": []
          },
          "execution_count": 106
        },
        {
          "output_type": "display_data",
          "data": {
            "image/png": "[encoded data removed]",
            "text/plain": [
              "<Figure size 360x360 with 1 Axes>"
            ]
          },
          "metadata": {
            "tags": [],
            "needs_background": "light"
          }
        }
      ]
    },
    {
      "cell_type": "code",
      "metadata": {
        "colab": {
          "base_uri": "https://localhost:8080/",
          "height": 386
        },
        "id": "W_5vii_WNL8o",
        "outputId": "7145ec78-0382-4b9d-fedc-227153b52e47"
      },
      "source": [
        "sns.displot(user)"
      ],
      "execution_count": null,
      "outputs": [
        {
          "output_type": "execute_result",
          "data": {
            "text/plain": [
              "<seaborn.axisgrid.FacetGrid at 0x7f3ddf08be10>"
            ]
          },
          "metadata": {
            "tags": []
          },
          "execution_count": 107
        },
        {
          "output_type": "display_data",
          "data": {
            "image/png": "[encoded data removed]",
            "text/plain": [
              "<Figure size 360x360 with 1 Axes>"
            ]
          },
          "metadata": {
            "tags": [],
            "needs_background": "light"
          }
        }
      ]
    },
    {
      "cell_type": "markdown",
      "metadata": {
        "id": "5AyEOoUayvdg"
      },
      "source": [
        "# Data Analysis & Results (EDA)"
      ]
    },
    {
      "cell_type": "markdown",
      "metadata": {
        "id": "Gq8eIB_jyvdg"
      },
      "source": [
        "**Granularity**\n",
        "\n",
        "Each observation represents a game release on one platform. There might be multiple releases of the same game across different platforms. I have a version of the dataframe that aggregates all the platforms for the same game title into one observation, if necessary.\n",
        "\n",
        "**Scope**\n",
        "\n",
        "There were quite a few observations that had missing user and critic score data, which are the variables I was interested in. I decided to drop these observations, even though they made up a significant portion of the data.\n",
        "\n",
        "\n",
        "**Temporality**\n",
        "\n",
        "The data is from 2016, so it is somewhat outdated. Each game has a year of release for each platform it was released on. Our aggregated dataframe uses the earliest release year for each game title. \n",
        "\n",
        "**Faithfulness**\n",
        "\n",
        "Since the data is from 2016 it is not representative of today's games.  Additionally, the figures are from Metacritic which gets data from mostly English-speaking publications, so it might not fully represent the whole world."
      ]
    },
    {
      "cell_type": "code",
      "metadata": {
        "colab": {
          "base_uri": "https://localhost:8080/",
          "height": 297
        },
        "id": "ZBJqoqUdyB2A",
        "outputId": "03a5b91a-b6c2-48a5-8bec-bbbf872cd6b0"
      },
      "source": [
        "vg_clean_0.describe()"
      ],
      "execution_count": null,
      "outputs": [
        {
          "output_type": "execute_result",
          "data": {
            "text/html": [
              "<div>\n",
              "<style scoped>\n",
              "    .dataframe tbody tr th:only-of-type {\n",
              "        vertical-align: middle;\n",
              "    }\n",
              "\n",
              "    .dataframe tbody tr th {\n",
              "        vertical-align: top;\n",
              "    }\n",
              "\n",
              "    .dataframe thead th {\n",
              "        text-align: right;\n",
              "    }\n",
              "</style>\n",
              "<table border=\"1\" class=\"dataframe\">\n",
              "  <thead>\n",
              "    <tr style=\"text-align: right;\">\n",
              "      <th></th>\n",
              "      <th>Year_of_Release</th>\n",
              "      <th>NA_Sales</th>\n",
              "      <th>EU_Sales</th>\n",
              "      <th>JP_Sales</th>\n",
              "      <th>Other_Sales</th>\n",
              "      <th>Global_Sales</th>\n",
              "      <th>Critic_Score</th>\n",
              "      <th>Critic_Count</th>\n",
              "      <th>User_Score</th>\n",
              "      <th>User_Count</th>\n",
              "    </tr>\n",
              "  </thead>\n",
              "  <tbody>\n",
              "    <tr>\n",
              "      <th>count</th>\n",
              "      <td>6825.000000</td>\n",
              "      <td>6825.000000</td>\n",
              "      <td>6825.000000</td>\n",
              "      <td>6825.000000</td>\n",
              "      <td>6825.000000</td>\n",
              "      <td>6825.000000</td>\n",
              "      <td>6825.000000</td>\n",
              "      <td>6825.000000</td>\n",
              "      <td>6825.000000</td>\n",
              "      <td>6825.000000</td>\n",
              "    </tr>\n",
              "    <tr>\n",
              "      <th>mean</th>\n",
              "      <td>2007.436777</td>\n",
              "      <td>0.394484</td>\n",
              "      <td>0.236089</td>\n",
              "      <td>0.064158</td>\n",
              "      <td>0.082677</td>\n",
              "      <td>0.777590</td>\n",
              "      <td>70.272088</td>\n",
              "      <td>28.931136</td>\n",
              "      <td>7.185626</td>\n",
              "      <td>174.722344</td>\n",
              "    </tr>\n",
              "    <tr>\n",
              "      <th>std</th>\n",
              "      <td>4.211248</td>\n",
              "      <td>0.967385</td>\n",
              "      <td>0.687330</td>\n",
              "      <td>0.287570</td>\n",
              "      <td>0.269871</td>\n",
              "      <td>1.963443</td>\n",
              "      <td>13.868572</td>\n",
              "      <td>19.224165</td>\n",
              "      <td>1.439942</td>\n",
              "      <td>587.428538</td>\n",
              "    </tr>\n",
              "    <tr>\n",
              "      <th>min</th>\n",
              "      <td>1985.000000</td>\n",
              "      <td>0.000000</td>\n",
              "      <td>0.000000</td>\n",
              "      <td>0.000000</td>\n",
              "      <td>0.000000</td>\n",
              "      <td>0.010000</td>\n",
              "      <td>13.000000</td>\n",
              "      <td>3.000000</td>\n",
              "      <td>0.500000</td>\n",
              "      <td>4.000000</td>\n",
              "    </tr>\n",
              "    <tr>\n",
              "      <th>25%</th>\n",
              "      <td>2004.000000</td>\n",
              "      <td>0.060000</td>\n",
              "      <td>0.020000</td>\n",
              "      <td>0.000000</td>\n",
              "      <td>0.010000</td>\n",
              "      <td>0.110000</td>\n",
              "      <td>62.000000</td>\n",
              "      <td>14.000000</td>\n",
              "      <td>6.500000</td>\n",
              "      <td>11.000000</td>\n",
              "    </tr>\n",
              "    <tr>\n",
              "      <th>50%</th>\n",
              "      <td>2007.000000</td>\n",
              "      <td>0.150000</td>\n",
              "      <td>0.060000</td>\n",
              "      <td>0.000000</td>\n",
              "      <td>0.020000</td>\n",
              "      <td>0.290000</td>\n",
              "      <td>72.000000</td>\n",
              "      <td>25.000000</td>\n",
              "      <td>7.500000</td>\n",
              "      <td>27.000000</td>\n",
              "    </tr>\n",
              "    <tr>\n",
              "      <th>75%</th>\n",
              "      <td>2011.000000</td>\n",
              "      <td>0.390000</td>\n",
              "      <td>0.210000</td>\n",
              "      <td>0.010000</td>\n",
              "      <td>0.070000</td>\n",
              "      <td>0.750000</td>\n",
              "      <td>80.000000</td>\n",
              "      <td>39.000000</td>\n",
              "      <td>8.200000</td>\n",
              "      <td>89.000000</td>\n",
              "    </tr>\n",
              "    <tr>\n",
              "      <th>max</th>\n",
              "      <td>2016.000000</td>\n",
              "      <td>41.360000</td>\n",
              "      <td>28.960000</td>\n",
              "      <td>6.500000</td>\n",
              "      <td>10.570000</td>\n",
              "      <td>82.530000</td>\n",
              "      <td>98.000000</td>\n",
              "      <td>113.000000</td>\n",
              "      <td>9.600000</td>\n",
              "      <td>10665.000000</td>\n",
              "    </tr>\n",
              "  </tbody>\n",
              "</table>\n",
              "</div>"
            ],
            "text/plain": [
              "       Year_of_Release     NA_Sales  ...   User_Score    User_Count\n",
              "count      6825.000000  6825.000000  ...  6825.000000   6825.000000\n",
              "mean       2007.436777     0.394484  ...     7.185626    174.722344\n",
              "std           4.211248     0.967385  ...     1.439942    587.428538\n",
              "min        1985.000000     0.000000  ...     0.500000      4.000000\n",
              "25%        2004.000000     0.060000  ...     6.500000     11.000000\n",
              "50%        2007.000000     0.150000  ...     7.500000     27.000000\n",
              "75%        2011.000000     0.390000  ...     8.200000     89.000000\n",
              "max        2016.000000    41.360000  ...     9.600000  10665.000000\n",
              "\n",
              "[8 rows x 10 columns]"
            ]
          },
          "metadata": {
            "tags": []
          },
          "execution_count": 108
        }
      ]
    },
    {
      "cell_type": "code",
      "metadata": {
        "id": "jlPLXjVZJ2hC"
      },
      "source": [
        "# user_count mean vs median is very different, 174 vs 27, meaning that there is an outlier somewhere?\n",
        "# mean is probably being dragged up by the gigantic games, like Wii Sports or GTA V"
      ],
      "execution_count": null,
      "outputs": []
    },
    {
      "cell_type": "code",
      "metadata": {
        "id": "CKlqYSA5Rscx",
        "colab": {
          "base_uri": "https://localhost:8080/"
        },
        "outputId": "994c3fb0-9add-4c8b-a01e-908e0fbac8e2"
      },
      "source": [
        "# Critic Score vs. Global Sales\n",
        "outcome_critic, predictors_critic = patsy.dmatrices('Critic_Score ~ Global_Sales', vg_clean_0)\n",
        "model_critic = sm.OLS(outcome_critic, predictors_critic)\n",
        "results_critic = model_critic.fit()\n",
        "print(results_critic.summary())"
      ],
      "execution_count": null,
      "outputs": [
        {
          "output_type": "stream",
          "text": [
            "                            OLS Regression Results                            \n",
            "==============================================================================\n",
            "Dep. Variable:           Critic_Score   R-squared:                       0.056\n",
            "Model:                            OLS   Adj. R-squared:                  0.056\n",
            "Method:                 Least Squares   F-statistic:                     408.1\n",
            "Date:                Thu, 18 Mar 2021   Prob (F-statistic):           3.51e-88\n",
            "Time:                        02:40:50   Log-Likelihood:                -27433.\n",
            "No. Observations:                6825   AIC:                         5.487e+04\n",
            "Df Residuals:                    6823   BIC:                         5.488e+04\n",
            "Df Model:                           1                                         \n",
            "Covariance Type:            nonrobust                                         \n",
            "================================================================================\n",
            "                   coef    std err          t      P>|t|      [0.025      0.975]\n",
            "--------------------------------------------------------------------------------\n",
            "Intercept       68.9673      0.175    393.191      0.000      68.623      69.311\n",
            "Global_Sales     1.6779      0.083     20.201      0.000       1.515       1.841\n",
            "==============================================================================\n",
            "Omnibus:                     1032.973   Durbin-Watson:                   1.814\n",
            "Prob(Omnibus):                  0.000   Jarque-Bera (JB):             1947.665\n",
            "Skew:                          -0.952   Prob(JB):                         0.00\n",
            "Kurtosis:                       4.796   Cond. No.                         2.36\n",
            "==============================================================================\n",
            "\n",
            "Warnings:\n",
            "[1] Standard Errors assume that the covariance matrix of the errors is correctly specified.\n"
          ],
          "name": "stdout"
        }
      ]
    },
    {
      "cell_type": "markdown",
      "metadata": {
        "id": "jH60KGJrlAOm"
      },
      "source": [
        "Running an OLS regression analysis on Critic Score vs. Global sales show us that the effect size (𝛽1) of Global Sales with regard to Critic Score is 1.6779. This means that for every increase of 1 unit in Global_Sales, there is about a 1.6779 unit increase in Critic Score."
      ]
    },
    {
      "cell_type": "code",
      "metadata": {
        "colab": {
          "base_uri": "https://localhost:8080/"
        },
        "id": "KcnlYsSbaqdH",
        "outputId": "fc888410-4bf6-43f7-a2a0-b928d03ceb6e"
      },
      "source": [
        "# User Score vs. Global Sales\n",
        "outcome_user, predictors_user = patsy.dmatrices('User_Score ~ Global_Sales', vg_clean_0)\n",
        "model_user = sm.OLS(outcome_user, predictors_user)\n",
        "results_user = model_user.fit()\n",
        "print(results_user.summary())"
      ],
      "execution_count": null,
      "outputs": [
        {
          "output_type": "stream",
          "text": [
            "                            OLS Regression Results                            \n",
            "==============================================================================\n",
            "Dep. Variable:             User_Score   R-squared:                       0.008\n",
            "Model:                            OLS   Adj. R-squared:                  0.008\n",
            "Method:                 Least Squares   F-statistic:                     53.68\n",
            "Date:                Thu, 18 Mar 2021   Prob (F-statistic):           2.64e-13\n",
            "Time:                        02:40:50   Log-Likelihood:                -12145.\n",
            "No. Observations:                6825   AIC:                         2.429e+04\n",
            "Df Residuals:                    6823   BIC:                         2.431e+04\n",
            "Df Model:                           1                                         \n",
            "Covariance Type:            nonrobust                                         \n",
            "================================================================================\n",
            "                   coef    std err          t      P>|t|      [0.025      0.975]\n",
            "--------------------------------------------------------------------------------\n",
            "Intercept        7.1352      0.019    382.071      0.000       7.099       7.172\n",
            "Global_Sales     0.0648      0.009      7.326      0.000       0.047       0.082\n",
            "==============================================================================\n",
            "Omnibus:                     1332.427   Durbin-Watson:                   1.985\n",
            "Prob(Omnibus):                  0.000   Jarque-Bera (JB):             2447.099\n",
            "Skew:                          -1.222   Prob(JB):                         0.00\n",
            "Kurtosis:                       4.623   Cond. No.                         2.36\n",
            "==============================================================================\n",
            "\n",
            "Warnings:\n",
            "[1] Standard Errors assume that the covariance matrix of the errors is correctly specified.\n"
          ],
          "name": "stdout"
        }
      ]
    },
    {
      "cell_type": "markdown",
      "metadata": {
        "id": "0N8tcNiJkxap"
      },
      "source": [
        "As for User Score vs. Global Sales, running an OLS regression shows us that the effect size between User_Score and Global_Sales is 0.0648. This means that for every increase of 1 unit in Global_Sales, User Score increases by about 0.0648"
      ]
    },
    {
      "cell_type": "markdown",
      "metadata": {
        "id": "x5oT27tcwtQ_"
      },
      "source": [
        "Since I have two predictors (Critic Score and User Score) that I want to analyze in relationship to Global Sales, I can carry out a multiple linear regression. "
      ]
    },
    {
      "cell_type": "code",
      "metadata": {
        "colab": {
          "base_uri": "https://localhost:8080/"
        },
        "id": "uhGO9AQutU1T",
        "outputId": "768d8b9a-6048-44ec-e12a-c70e22b0af9b"
      },
      "source": [
        "# Multiple Linear Regression\n",
        "\n",
        "outcome, predictors = patsy.dmatrices('Global_Sales ~ Critic_Score + User_Score', vg_clean_0)\n",
        "model = sm.OLS(outcome, predictors)\n",
        "results = model.fit()\n",
        "print(results.summary())"
      ],
      "execution_count": null,
      "outputs": [
        {
          "output_type": "stream",
          "text": [
            "                            OLS Regression Results                            \n",
            "==============================================================================\n",
            "Dep. Variable:           Global_Sales   R-squared:                       0.060\n",
            "Model:                            OLS   Adj. R-squared:                  0.060\n",
            "Method:                 Least Squares   F-statistic:                     218.2\n",
            "Date:                Thu, 18 Mar 2021   Prob (F-statistic):           1.37e-92\n",
            "Time:                        02:40:50   Log-Likelihood:                -14077.\n",
            "No. Observations:                6825   AIC:                         2.816e+04\n",
            "Df Residuals:                    6822   BIC:                         2.818e+04\n",
            "Df Model:                           2                                         \n",
            "Covariance Type:            nonrobust                                         \n",
            "================================================================================\n",
            "                   coef    std err          t      P>|t|      [0.025      0.975]\n",
            "--------------------------------------------------------------------------------\n",
            "Intercept       -1.2854      0.132     -9.708      0.000      -1.545      -1.026\n",
            "Critic_Score     0.0398      0.002     19.488      0.000       0.036       0.044\n",
            "User_Score      -0.1018      0.020     -5.179      0.000      -0.140      -0.063\n",
            "==============================================================================\n",
            "Omnibus:                    14077.256   Durbin-Watson:                   0.201\n",
            "Prob(Omnibus):                  0.000   Jarque-Bera (JB):         89618308.726\n",
            "Skew:                          17.070   Prob(JB):                         0.00\n",
            "Kurtosis:                     563.335   Cond. No.                         415.\n",
            "==============================================================================\n",
            "\n",
            "Warnings:\n",
            "[1] Standard Errors assume that the covariance matrix of the errors is correctly specified.\n"
          ],
          "name": "stdout"
        }
      ]
    },
    {
      "cell_type": "markdown",
      "metadata": {
        "id": "dUQUfMj_8hrI"
      },
      "source": [
        "From this OLS I can see that the R-squared and the Adj. R-squared values are very small, with both being 0.060. This means the model is not a good fit and I would be better trying an alternative model or try to log scale it to make it linear."
      ]
    },
    {
      "cell_type": "code",
      "metadata": {
        "id": "lESgejYf8yC0",
        "colab": {
          "base_uri": "https://localhost:8080/"
        },
        "outputId": "2bf38863-5497-47e2-e058-01dfe4ad8756"
      },
      "source": [
        "# log adjust the model\n",
        "# multiply User Score by 10 to better match critic score\n",
        "# Looking back at the global sales vs critic/user score scatterplots, they seem to be heteroscedastic\n",
        "\n",
        "vg_clean_0['global_log10'] = np.log10(vg_clean_0['Global_Sales'])\n",
        "vg_clean_0['user_x10'] = 10 * vg_clean_0['User_Score']\n",
        "outcome, predictors = patsy.dmatrices('global_log10 ~ Critic_Score + user_x10', vg_clean_0)\n",
        "model = sm.OLS(outcome, predictors)\n",
        "results = model.fit()\n",
        "print(results.summary())"
      ],
      "execution_count": null,
      "outputs": [
        {
          "output_type": "stream",
          "text": [
            "                            OLS Regression Results                            \n",
            "==============================================================================\n",
            "Dep. Variable:           global_log10   R-squared:                       0.135\n",
            "Model:                            OLS   Adj. R-squared:                  0.135\n",
            "Method:                 Least Squares   F-statistic:                     532.8\n",
            "Date:                Thu, 18 Mar 2021   Prob (F-statistic):          9.88e-216\n",
            "Time:                        02:40:50   Log-Likelihood:                -5788.9\n",
            "No. Observations:                6825   AIC:                         1.158e+04\n",
            "Df Residuals:                    6822   BIC:                         1.160e+04\n",
            "Df Model:                           2                                         \n",
            "Covariance Type:            nonrobust                                         \n",
            "================================================================================\n",
            "                   coef    std err          t      P>|t|      [0.025      0.975]\n",
            "--------------------------------------------------------------------------------\n",
            "Intercept       -1.5536      0.039    -39.520      0.000      -1.631      -1.477\n",
            "Critic_Score     0.0178      0.001     29.451      0.000       0.017       0.019\n",
            "user_x10        -0.0033      0.001     -5.625      0.000      -0.004      -0.002\n",
            "==============================================================================\n",
            "Omnibus:                       74.105   Durbin-Watson:                   0.264\n",
            "Prob(Omnibus):                  0.000   Jarque-Bera (JB):               76.295\n",
            "Skew:                          -0.255   Prob(JB):                     2.71e-17\n",
            "Kurtosis:                       3.095   Cond. No.                         586.\n",
            "==============================================================================\n",
            "\n",
            "Warnings:\n",
            "[1] Standard Errors assume that the covariance matrix of the errors is correctly specified.\n"
          ],
          "name": "stdout"
        }
      ]
    },
    {
      "cell_type": "markdown",
      "metadata": {
        "id": "2vSg0foMPtHY"
      },
      "source": [
        "The reason why I multiplied user score by 10 is to better match the critic score. The user score is out of ten points, while critic score is out of a hundred points. By multiplying user score by 10, it will make it on the same scale as critic score. "
      ]
    },
    {
      "cell_type": "markdown",
      "metadata": {
        "id": "oGtvqQeZF-iZ"
      },
      "source": [
        "After using a log 10 transformation of global sales, the R-squared value has increased to 0.135, but this is still quite low. Another model might be more suitable. I will try the Generalized Least Squares test since the data appears to be non-linear."
      ]
    },
    {
      "cell_type": "code",
      "metadata": {
        "colab": {
          "base_uri": "https://localhost:8080/"
        },
        "id": "AJdRlh1VMilp",
        "outputId": "56aab688-0362-4fba-c62d-1a37f22039b5"
      },
      "source": [
        "# GLS\n",
        "\n",
        "vg_exog = vg_clean_0[['Critic_Score', 'user_x10']]\n",
        "vg_endog = vg_clean_0['Global_Sales']\n",
        "model = sm.regression.linear_model.GLS(vg_endog, vg_exog)\n",
        "results = model.fit()\n",
        "print(results.summary())"
      ],
      "execution_count": null,
      "outputs": [
        {
          "output_type": "stream",
          "text": [
            "                                 GLS Regression Results                                \n",
            "=======================================================================================\n",
            "Dep. Variable:           Global_Sales   R-squared (uncentered):                   0.176\n",
            "Model:                            GLS   Adj. R-squared (uncentered):              0.176\n",
            "Method:                 Least Squares   F-statistic:                              730.4\n",
            "Date:                Thu, 18 Mar 2021   Prob (F-statistic):                   3.63e-288\n",
            "Time:                        02:40:50   Log-Likelihood:                         -14124.\n",
            "No. Observations:                6825   AIC:                                  2.825e+04\n",
            "Df Residuals:                    6823   BIC:                                  2.827e+04\n",
            "Df Model:                           2                                                  \n",
            "Covariance Type:            nonrobust                                                  \n",
            "================================================================================\n",
            "                   coef    std err          t      P>|t|      [0.025      0.975]\n",
            "--------------------------------------------------------------------------------\n",
            "Critic_Score     0.0306      0.002     16.800      0.000       0.027       0.034\n",
            "user_x10        -0.0185      0.002    -10.421      0.000      -0.022      -0.015\n",
            "==============================================================================\n",
            "Omnibus:                    14031.138   Durbin-Watson:                   0.149\n",
            "Prob(Omnibus):                  0.000   Jarque-Bera (JB):         86426332.354\n",
            "Skew:                          16.951   Prob(JB):                         0.00\n",
            "Kurtosis:                     553.243   Cond. No.                         11.1\n",
            "==============================================================================\n",
            "\n",
            "Warnings:\n",
            "[1] Standard Errors assume that the covariance matrix of the errors is correctly specified.\n"
          ],
          "name": "stdout"
        }
      ]
    },
    {
      "cell_type": "markdown",
      "metadata": {
        "id": "-oearcFTPscg"
      },
      "source": [
        "Using generalized regression gives a slightly better fit, with an R-squared value of 0.176. From this it seems that critic score has some positive relationship with global sales (coefficient of 0.0306), while user score actually has a negative one (coefficient of -0.0185). The negative relationship between user score and global sales might be caused by games that have very small but devoted playerbases rating them very high (e.g. Undertale, Cuphead), while mass market games might sell a lot but the players may not be as satisfied (e.g. Call of Duty, Cyberpunk 2077). It might be worth reexamining the data for larger games and smaller games separately."
      ]
    },
    {
      "cell_type": "code",
      "metadata": {
        "id": "oJSN0rqbU9cv",
        "colab": {
          "base_uri": "https://localhost:8080/",
          "height": 289
        },
        "outputId": "7b4d73b0-9e04-4e03-e07d-01f188917b81"
      },
      "source": [
        "#Adjusting scale of User_Score column and log transforming the Global_Sales column from the vg_no_plat dataframe\n",
        "vg_no_plat['global_log10'] = np.log10(vg_no_plat['Global_Sales'])\n",
        "vg_no_plat['user_x10'] = 10 * vg_no_plat['User_Score']\n",
        "vg_no_plat.sort_values(by='User_Count', ascending = False).reset_index(drop=True).head()\n",
        "\n",
        "# We'll be using the aggregated dataframe here to combine the counts for each title"
      ],
      "execution_count": null,
      "outputs": [
        {
          "output_type": "execute_result",
          "data": {
            "text/html": [
              "<div>\n",
              "<style scoped>\n",
              "    .dataframe tbody tr th:only-of-type {\n",
              "        vertical-align: middle;\n",
              "    }\n",
              "\n",
              "    .dataframe tbody tr th {\n",
              "        vertical-align: top;\n",
              "    }\n",
              "\n",
              "    .dataframe thead th {\n",
              "        text-align: right;\n",
              "    }\n",
              "</style>\n",
              "<table border=\"1\" class=\"dataframe\">\n",
              "  <thead>\n",
              "    <tr style=\"text-align: right;\">\n",
              "      <th></th>\n",
              "      <th>Name</th>\n",
              "      <th>Year_of_Release</th>\n",
              "      <th>Genre</th>\n",
              "      <th>Publisher</th>\n",
              "      <th>NA_Sales</th>\n",
              "      <th>EU_Sales</th>\n",
              "      <th>JP_Sales</th>\n",
              "      <th>Other_Sales</th>\n",
              "      <th>Global_Sales</th>\n",
              "      <th>Critic_Score</th>\n",
              "      <th>Critic_Count</th>\n",
              "      <th>User_Score</th>\n",
              "      <th>User_Count</th>\n",
              "      <th>Developer</th>\n",
              "      <th>Rating</th>\n",
              "      <th>global_log10</th>\n",
              "      <th>user_x10</th>\n",
              "    </tr>\n",
              "  </thead>\n",
              "  <tbody>\n",
              "    <tr>\n",
              "      <th>0</th>\n",
              "      <td>The Witcher 3: Wild Hunt</td>\n",
              "      <td>2015.0</td>\n",
              "      <td>Role-Playing</td>\n",
              "      <td>Namco Bandai Games</td>\n",
              "      <td>1.92</td>\n",
              "      <td>3.09</td>\n",
              "      <td>0.23</td>\n",
              "      <td>0.75</td>\n",
              "      <td>6.00</td>\n",
              "      <td>92.000000</td>\n",
              "      <td>124.0</td>\n",
              "      <td>9.233333</td>\n",
              "      <td>24807.0</td>\n",
              "      <td>CD Projekt Red Studio</td>\n",
              "      <td>M</td>\n",
              "      <td>0.778151</td>\n",
              "      <td>92.333333</td>\n",
              "    </tr>\n",
              "    <tr>\n",
              "      <th>1</th>\n",
              "      <td>Call of Duty: Modern Warfare 3</td>\n",
              "      <td>2011.0</td>\n",
              "      <td>Shooter</td>\n",
              "      <td>Activision</td>\n",
              "      <td>15.54</td>\n",
              "      <td>11.15</td>\n",
              "      <td>0.62</td>\n",
              "      <td>3.29</td>\n",
              "      <td>30.59</td>\n",
              "      <td>81.000000</td>\n",
              "      <td>162.0</td>\n",
              "      <td>2.725000</td>\n",
              "      <td>20053.0</td>\n",
              "      <td>Infinity Ward, Sledgehammer Games</td>\n",
              "      <td>M</td>\n",
              "      <td>1.485579</td>\n",
              "      <td>27.250000</td>\n",
              "    </tr>\n",
              "    <tr>\n",
              "      <th>2</th>\n",
              "      <td>The Elder Scrolls V: Skyrim</td>\n",
              "      <td>2011.0</td>\n",
              "      <td>Role-Playing</td>\n",
              "      <td>Bethesda Softworks</td>\n",
              "      <td>8.76</td>\n",
              "      <td>7.51</td>\n",
              "      <td>0.35</td>\n",
              "      <td>2.45</td>\n",
              "      <td>19.08</td>\n",
              "      <td>94.000000</td>\n",
              "      <td>137.0</td>\n",
              "      <td>7.633333</td>\n",
              "      <td>15189.0</td>\n",
              "      <td>Bethesda Game Studios</td>\n",
              "      <td>M</td>\n",
              "      <td>1.280578</td>\n",
              "      <td>76.333333</td>\n",
              "    </tr>\n",
              "    <tr>\n",
              "      <th>3</th>\n",
              "      <td>Grand Theft Auto V</td>\n",
              "      <td>2013.0</td>\n",
              "      <td>Action</td>\n",
              "      <td>Take-Two Interactive</td>\n",
              "      <td>23.84</td>\n",
              "      <td>23.42</td>\n",
              "      <td>1.42</td>\n",
              "      <td>7.90</td>\n",
              "      <td>56.57</td>\n",
              "      <td>96.800000</td>\n",
              "      <td>245.0</td>\n",
              "      <td>8.080000</td>\n",
              "      <td>15124.0</td>\n",
              "      <td>Rockstar North</td>\n",
              "      <td>M</td>\n",
              "      <td>1.752586</td>\n",
              "      <td>80.800000</td>\n",
              "    </tr>\n",
              "    <tr>\n",
              "      <th>4</th>\n",
              "      <td>Fallout 4</td>\n",
              "      <td>2015.0</td>\n",
              "      <td>Role-Playing</td>\n",
              "      <td>Bethesda Softworks</td>\n",
              "      <td>5.55</td>\n",
              "      <td>5.26</td>\n",
              "      <td>0.25</td>\n",
              "      <td>1.61</td>\n",
              "      <td>12.67</td>\n",
              "      <td>86.333333</td>\n",
              "      <td>135.0</td>\n",
              "      <td>6.033333</td>\n",
              "      <td>13489.0</td>\n",
              "      <td>Bethesda Game Studios</td>\n",
              "      <td>M</td>\n",
              "      <td>1.102777</td>\n",
              "      <td>60.333333</td>\n",
              "    </tr>\n",
              "  </tbody>\n",
              "</table>\n",
              "</div>"
            ],
            "text/plain": [
              "                             Name  Year_of_Release  ... global_log10   user_x10\n",
              "0        The Witcher 3: Wild Hunt           2015.0  ...     0.778151  92.333333\n",
              "1  Call of Duty: Modern Warfare 3           2011.0  ...     1.485579  27.250000\n",
              "2     The Elder Scrolls V: Skyrim           2011.0  ...     1.280578  76.333333\n",
              "3              Grand Theft Auto V           2013.0  ...     1.752586  80.800000\n",
              "4                       Fallout 4           2015.0  ...     1.102777  60.333333\n",
              "\n",
              "[5 rows x 17 columns]"
            ]
          },
          "metadata": {
            "tags": []
          },
          "execution_count": 116
        }
      ]
    },
    {
      "cell_type": "code",
      "metadata": {
        "id": "-td2U8fseicK",
        "colab": {
          "base_uri": "https://localhost:8080/",
          "height": 351
        },
        "outputId": "bf99260d-9504-47a5-93b6-c7c3bad968fa"
      },
      "source": [
        "sns.distplot(vg_no_plat['User_Count'])"
      ],
      "execution_count": null,
      "outputs": [
        {
          "output_type": "stream",
          "text": [
            "/usr/local/lib/python3.7/dist-packages/seaborn/distributions.py:2557: FutureWarning: `distplot` is a deprecated function and will be removed in a future version. Please adapt your code to use either `displot` (a figure-level function with similar flexibility) or `histplot` (an axes-level function for histograms).\n",
            "  warnings.warn(msg, FutureWarning)\n"
          ],
          "name": "stderr"
        },
        {
          "output_type": "execute_result",
          "data": {
            "text/plain": [
              "<matplotlib.axes._subplots.AxesSubplot at 0x7f3ddeff2fd0>"
            ]
          },
          "metadata": {
            "tags": []
          },
          "execution_count": 117
        },
        {
          "output_type": "display_data",
          "data": {
            "image/png": "[encoded data removed]",
            "text/plain": [
              "<Figure size 432x288 with 1 Axes>"
            ]
          },
          "metadata": {
            "tags": [],
            "needs_background": "light"
          }
        }
      ]
    },
    {
      "cell_type": "markdown",
      "metadata": {
        "id": "v5oroiLHh5c-"
      },
      "source": [
        "Looking at the distribution plot of the User Count in the dataframe vg_no_plat, the majority of the games have below 2,000 users. There are a few exceptions in the dataframe with a few games having more than 2,000 users up to 25,000 users. "
      ]
    },
    {
      "cell_type": "code",
      "metadata": {
        "colab": {
          "base_uri": "https://localhost:8080/"
        },
        "id": "j8WDPBdJjGSh",
        "outputId": "296f9224-d633-453a-eea0-0d522591eebd"
      },
      "source": [
        "#Let's look at how many games have above a 2,000 User Count in vg_no_plat\n",
        "vg_over_2000 = vg_no_plat[vg_no_plat['User_Count']>=2000]\n",
        "vg_over_2000.shape"
      ],
      "execution_count": null,
      "outputs": [
        {
          "output_type": "execute_result",
          "data": {
            "text/plain": [
              "(136, 17)"
            ]
          },
          "metadata": {
            "tags": []
          },
          "execution_count": 118
        }
      ]
    },
    {
      "cell_type": "code",
      "metadata": {
        "colab": {
          "base_uri": "https://localhost:8080/",
          "height": 386
        },
        "id": "kaAkpOgtwtvd",
        "outputId": "3d2b349a-c9ec-489c-9044-866772079740"
      },
      "source": [
        "sns.displot(vg_over_2000['User_Count'])"
      ],
      "execution_count": null,
      "outputs": [
        {
          "output_type": "execute_result",
          "data": {
            "text/plain": [
              "<seaborn.axisgrid.FacetGrid at 0x7f3ddf332490>"
            ]
          },
          "metadata": {
            "tags": []
          },
          "execution_count": 119
        },
        {
          "output_type": "display_data",
          "data": {
            "image/png": "[encoded data removed]",
            "text/plain": [
              "<Figure size 360x360 with 1 Axes>"
            ]
          },
          "metadata": {
            "tags": [],
            "needs_background": "light"
          }
        }
      ]
    },
    {
      "cell_type": "markdown",
      "metadata": {
        "id": "9sYnxkDhkfKZ"
      },
      "source": [
        "After filtering out games that have over a User Count of over 2,000, there are 136 games left in the reduced dataframe. "
      ]
    },
    {
      "cell_type": "code",
      "metadata": {
        "colab": {
          "base_uri": "https://localhost:8080/"
        },
        "id": "g9GppQrvlQKG",
        "outputId": "56779132-e186-4374-acad-5967c755bd35"
      },
      "source": [
        "vg_under_2000 = vg_no_plat[vg_no_plat['User_Count'] < 2000]\n",
        "vg_under_2000.shape"
      ],
      "execution_count": null,
      "outputs": [
        {
          "output_type": "execute_result",
          "data": {
            "text/plain": [
              "(4241, 17)"
            ]
          },
          "metadata": {
            "tags": []
          },
          "execution_count": 120
        }
      ]
    },
    {
      "cell_type": "code",
      "metadata": {
        "colab": {
          "base_uri": "https://localhost:8080/",
          "height": 386
        },
        "id": "SsMyoX6_w1em",
        "outputId": "014b8fdf-5a00-4811-b7fb-b8abb64a5680"
      },
      "source": [
        "sns.displot(vg_under_2000['User_Count'])"
      ],
      "execution_count": null,
      "outputs": [
        {
          "output_type": "execute_result",
          "data": {
            "text/plain": [
              "<seaborn.axisgrid.FacetGrid at 0x7f3ddef76e90>"
            ]
          },
          "metadata": {
            "tags": []
          },
          "execution_count": 121
        },
        {
          "output_type": "display_data",
          "data": {
            "image/png": "[encoded data removed]",
            "text/plain": [
              "<Figure size 360x360 with 1 Axes>"
            ]
          },
          "metadata": {
            "tags": [],
            "needs_background": "light"
          }
        }
      ]
    },
    {
      "cell_type": "markdown",
      "metadata": {
        "id": "8yldqo8wlyEF"
      },
      "source": [
        "Looking at the games within the vg_no_plat dataframe that has a User Count of less than or equal to *2*,000 gives us a reduced dataframe with 4,241 entries. Let's try running the GLS test again on these reduced dataframes. "
      ]
    },
    {
      "cell_type": "code",
      "metadata": {
        "colab": {
          "base_uri": "https://localhost:8080/"
        },
        "id": "0Zgq7VIMnyvL",
        "outputId": "5ec9d023-87e9-415d-a4f1-f40f6e9b0e2c"
      },
      "source": [
        "#GLS for games that have greater than or equal to 2,000 users.\n",
        "vg_exog_big = vg_over_2000[['Critic_Score', 'user_x10']]\n",
        "vg_endog_big = vg_over_2000['Global_Sales']\n",
        "model = sm.regression.linear_model.GLS(vg_endog_big, vg_exog_big)\n",
        "results = model.fit()\n",
        "print(results.summary())"
      ],
      "execution_count": null,
      "outputs": [
        {
          "output_type": "stream",
          "text": [
            "                                 GLS Regression Results                                \n",
            "=======================================================================================\n",
            "Dep. Variable:           Global_Sales   R-squared (uncentered):                   0.501\n",
            "Model:                            GLS   Adj. R-squared (uncentered):              0.493\n",
            "Method:                 Least Squares   F-statistic:                              67.19\n",
            "Date:                Thu, 18 Mar 2021   Prob (F-statistic):                    6.18e-21\n",
            "Time:                        02:40:52   Log-Likelihood:                         -459.90\n",
            "No. Observations:                 136   AIC:                                      923.8\n",
            "Df Residuals:                     134   BIC:                                      929.6\n",
            "Df Model:                           2                                                  \n",
            "Covariance Type:            nonrobust                                                  \n",
            "================================================================================\n",
            "                   coef    std err          t      P>|t|      [0.025      0.975]\n",
            "--------------------------------------------------------------------------------\n",
            "Critic_Score     0.2186      0.043      5.063      0.000       0.133       0.304\n",
            "user_x10        -0.1616      0.050     -3.255      0.001      -0.260      -0.063\n",
            "==============================================================================\n",
            "Omnibus:                      119.968   Durbin-Watson:                   0.946\n",
            "Prob(Omnibus):                  0.000   Jarque-Bera (JB):             1578.062\n",
            "Skew:                           3.054   Prob(JB):                         0.00\n",
            "Kurtosis:                      18.530   Cond. No.                         12.0\n",
            "==============================================================================\n",
            "\n",
            "Warnings:\n",
            "[1] Standard Errors assume that the covariance matrix of the errors is correctly specified.\n"
          ],
          "name": "stdout"
        }
      ]
    },
    {
      "cell_type": "code",
      "metadata": {
        "colab": {
          "base_uri": "https://localhost:8080/"
        },
        "id": "dQH60VJXpq70",
        "outputId": "e005df9e-61bf-4363-d6ee-409b80c7cf19"
      },
      "source": [
        "#GLS for games that have less than 2,000 users.\n",
        "vg_exog_small = vg_under_2000[['Critic_Score', 'user_x10']]\n",
        "vg_endog_small = vg_under_2000['Global_Sales']\n",
        "model = sm.regression.linear_model.GLS(vg_endog_small, vg_exog_small)\n",
        "results = model.fit()\n",
        "print(results.summary())"
      ],
      "execution_count": null,
      "outputs": [
        {
          "output_type": "stream",
          "text": [
            "                                 GLS Regression Results                                \n",
            "=======================================================================================\n",
            "Dep. Variable:           Global_Sales   R-squared (uncentered):                   0.197\n",
            "Model:                            GLS   Adj. R-squared (uncentered):              0.196\n",
            "Method:                 Least Squares   F-statistic:                              518.9\n",
            "Date:                Thu, 18 Mar 2021   Prob (F-statistic):                   2.55e-202\n",
            "Time:                        02:40:52   Log-Likelihood:                         -9646.9\n",
            "No. Observations:                4241   AIC:                                  1.930e+04\n",
            "Df Residuals:                    4239   BIC:                                  1.931e+04\n",
            "Df Model:                           2                                                  \n",
            "Covariance Type:            nonrobust                                                  \n",
            "================================================================================\n",
            "                   coef    std err          t      P>|t|      [0.025      0.975]\n",
            "--------------------------------------------------------------------------------\n",
            "Critic_Score     0.0439      0.003     13.744      0.000       0.038       0.050\n",
            "user_x10        -0.0270      0.003     -8.883      0.000      -0.033      -0.021\n",
            "==============================================================================\n",
            "Omnibus:                     8016.599   Durbin-Watson:                   1.552\n",
            "Prob(Omnibus):                  0.000   Jarque-Bera (JB):         25346550.740\n",
            "Skew:                          14.049   Prob(JB):                         0.00\n",
            "Kurtosis:                     380.687   Cond. No.                         12.4\n",
            "==============================================================================\n",
            "\n",
            "Warnings:\n",
            "[1] Standard Errors assume that the covariance matrix of the errors is correctly specified.\n"
          ],
          "name": "stdout"
        }
      ]
    },
    {
      "cell_type": "markdown",
      "metadata": {
        "id": "VoR8wavAIKGZ"
      },
      "source": [
        "The User Score coefficient is still negative though. I expected that for smaller games, higher user score would lead to higher sales due to more devoted players. I need to check the data again."
      ]
    },
    {
      "cell_type": "code",
      "metadata": {
        "colab": {
          "base_uri": "https://localhost:8080/",
          "height": 297
        },
        "id": "CCG9MKAaojdL",
        "outputId": "08875cd0-9006-478b-de29-c991af9ed411"
      },
      "source": [
        "#Taking a look at the relationship between user score and global sales for games with less than 2000 user count.\n",
        "sns.scatterplot(x='user_x10', y='Global_Sales', data=vg_under_2000)"
      ],
      "execution_count": null,
      "outputs": [
        {
          "output_type": "execute_result",
          "data": {
            "text/plain": [
              "<matplotlib.axes._subplots.AxesSubplot at 0x7f3ddf51b790>"
            ]
          },
          "metadata": {
            "tags": []
          },
          "execution_count": 124
        },
        {
          "output_type": "display_data",
          "data": {
            "image/png": "[encoded data removed]",
            "text/plain": [
              "<Figure size 432x288 with 1 Axes>"
            ]
          },
          "metadata": {
            "tags": [],
            "needs_background": "light"
          }
        }
      ]
    },
    {
      "cell_type": "markdown",
      "metadata": {
        "id": "KXyU9IlesW8q"
      },
      "source": [
        "There's a game here with more than 80 million sales that looks familiar."
      ]
    },
    {
      "cell_type": "code",
      "metadata": {
        "colab": {
          "base_uri": "https://localhost:8080/",
          "height": 80
        },
        "id": "QCCL0ETPpRgz",
        "outputId": "39e10b01-c02f-4bc8-91d8-23d90faa4c7b"
      },
      "source": [
        "vg_under_2000[vg_under_2000.get('Global_Sales')>60]"
      ],
      "execution_count": null,
      "outputs": [
        {
          "output_type": "execute_result",
          "data": {
            "text/html": [
              "<div>\n",
              "<style scoped>\n",
              "    .dataframe tbody tr th:only-of-type {\n",
              "        vertical-align: middle;\n",
              "    }\n",
              "\n",
              "    .dataframe tbody tr th {\n",
              "        vertical-align: top;\n",
              "    }\n",
              "\n",
              "    .dataframe thead th {\n",
              "        text-align: right;\n",
              "    }\n",
              "</style>\n",
              "<table border=\"1\" class=\"dataframe\">\n",
              "  <thead>\n",
              "    <tr style=\"text-align: right;\">\n",
              "      <th></th>\n",
              "      <th>Name</th>\n",
              "      <th>Year_of_Release</th>\n",
              "      <th>Genre</th>\n",
              "      <th>Publisher</th>\n",
              "      <th>NA_Sales</th>\n",
              "      <th>EU_Sales</th>\n",
              "      <th>JP_Sales</th>\n",
              "      <th>Other_Sales</th>\n",
              "      <th>Global_Sales</th>\n",
              "      <th>Critic_Score</th>\n",
              "      <th>Critic_Count</th>\n",
              "      <th>User_Score</th>\n",
              "      <th>User_Count</th>\n",
              "      <th>Developer</th>\n",
              "      <th>Rating</th>\n",
              "      <th>global_log10</th>\n",
              "      <th>user_x10</th>\n",
              "    </tr>\n",
              "  </thead>\n",
              "  <tbody>\n",
              "    <tr>\n",
              "      <th>4215</th>\n",
              "      <td>Wii Sports</td>\n",
              "      <td>2006.0</td>\n",
              "      <td>Sports</td>\n",
              "      <td>Nintendo</td>\n",
              "      <td>41.36</td>\n",
              "      <td>28.96</td>\n",
              "      <td>3.77</td>\n",
              "      <td>8.45</td>\n",
              "      <td>82.53</td>\n",
              "      <td>76.0</td>\n",
              "      <td>51.0</td>\n",
              "      <td>8.0</td>\n",
              "      <td>322.0</td>\n",
              "      <td>Nintendo</td>\n",
              "      <td>E</td>\n",
              "      <td>1.916612</td>\n",
              "      <td>80.0</td>\n",
              "    </tr>\n",
              "  </tbody>\n",
              "</table>\n",
              "</div>"
            ],
            "text/plain": [
              "            Name  Year_of_Release   Genre  ... Rating  global_log10  user_x10\n",
              "4215  Wii Sports           2006.0  Sports  ...      E      1.916612      80.0\n",
              "\n",
              "[1 rows x 17 columns]"
            ]
          },
          "metadata": {
            "tags": []
          },
          "execution_count": 125
        }
      ]
    },
    {
      "cell_type": "markdown",
      "metadata": {
        "id": "9Ka4tUSJsh3I"
      },
      "source": [
        "It's Wii Sports again, which doesn't fit the idea of 'smaller game', but it has such a low user count of 322. When considering that the user count is measured from user reviews on Metacritic, this starts to make more sense. Hardly anyone bothered to leave a review of Wii Sports on Metacritic because most people received the game for free along with their Wii console and thus are probably not very devoted to the game. I need to find another way to split 'larger' games from 'smaller' games. Lower sales numbers should indicate a smaller game."
      ]
    },
    {
      "cell_type": "code",
      "metadata": {
        "colab": {
          "base_uri": "https://localhost:8080/",
          "height": 301
        },
        "id": "IrDQmPEPqO_b",
        "outputId": "a2ea6201-bd80-4240-ff90-e9d868a4d5b1"
      },
      "source": [
        "vg_no_plat = vg_no_plat[vg_no_plat['Global_Sales'] < 40]\n",
        "\n",
        "sns.histplot(vg_no_plat['Global_Sales'])\n",
        "plt.ylim(0, 1000)\n",
        "#Cutting off the x-axis since we excluded the Wii Sports outlier\n",
        "plt.xlim(0, 50)"
      ],
      "execution_count": null,
      "outputs": [
        {
          "output_type": "execute_result",
          "data": {
            "text/plain": [
              "(0.0, 50.0)"
            ]
          },
          "metadata": {
            "tags": []
          },
          "execution_count": 126
        },
        {
          "output_type": "display_data",
          "data": {
            "image/png": "[encoded data removed]",
            "text/plain": [
              "<Figure size 432x288 with 1 Axes>"
            ]
          },
          "metadata": {
            "tags": [],
            "needs_background": "light"
          }
        }
      ]
    },
    {
      "cell_type": "markdown",
      "metadata": {
        "id": "hHTf4v4bte0x"
      },
      "source": [
        "Looking at the distribution of sales numbers, almost all games have less than 10 million sales. How many have less than 5 million? 1 million? Half a million?"
      ]
    },
    {
      "cell_type": "code",
      "metadata": {
        "colab": {
          "base_uri": "https://localhost:8080/"
        },
        "id": "tLywIcGLuYci",
        "outputId": "3c8bc045-c094-402c-ef2e-05ea33a03ee6"
      },
      "source": [
        "print('Proportion of games with less than 10 million sales:', sum(vg_no_plat['Global_Sales'] < 10) / len(vg_no_plat))\n",
        "print('Proportion of games with less than 5 million sales:', sum(vg_no_plat['Global_Sales'] < 5) / len(vg_no_plat))\n",
        "print('Proportion of games with less than 1 million sales:', sum(vg_no_plat['Global_Sales'] < 1) / len(vg_no_plat))\n",
        "print('Proportion of games with less than half a million sales:', sum(vg_no_plat['Global_Sales'] < 0.25) / len(vg_no_plat))"
      ],
      "execution_count": null,
      "outputs": [
        {
          "output_type": "stream",
          "text": [
            "Proportion of games with less than 10 million sales: 0.9874285714285714\n",
            "Proportion of games with less than 5 million sales: 0.9501714285714286\n",
            "Proportion of games with less than 1 million sales: 0.7124571428571429\n",
            "Proportion of games with less than half a million sales: 0.3913142857142857\n"
          ],
          "name": "stdout"
        }
      ]
    },
    {
      "cell_type": "markdown",
      "metadata": {
        "id": "zCzDpDBnurcp"
      },
      "source": [
        "95% of games have less than 5 million sales, and 71% of games have less than 1 million sales. I will run the GLS for both of these cases, starting with games that have less than 5 million sales."
      ]
    },
    {
      "cell_type": "code",
      "metadata": {
        "colab": {
          "base_uri": "https://localhost:8080/"
        },
        "id": "11VGXRrerZFb",
        "outputId": "103c12c7-2cba-4cc4-8ec0-243c6e384601"
      },
      "source": [
        "vg_under_5m = vg_no_plat[vg_no_plat['Global_Sales'] < 5]\n",
        "\n",
        "#GLS for games that have less than 5 million sales.\n",
        "vg_exog_small = vg_under_5m[['Critic_Score', 'user_x10']]\n",
        "vg_endog_small = vg_under_5m['Global_Sales']\n",
        "model = sm.regression.linear_model.GLS(vg_endog_small, vg_exog_small)\n",
        "results = model.fit()\n",
        "print(results.summary())\n",
        "under_5 = results.params"
      ],
      "execution_count": null,
      "outputs": [
        {
          "output_type": "stream",
          "text": [
            "                                 GLS Regression Results                                \n",
            "=======================================================================================\n",
            "Dep. Variable:           Global_Sales   R-squared (uncentered):                   0.447\n",
            "Model:                            GLS   Adj. R-squared (uncentered):              0.446\n",
            "Method:                 Least Squares   F-statistic:                              1677.\n",
            "Date:                Thu, 18 Mar 2021   Prob (F-statistic):                        0.00\n",
            "Time:                        02:40:53   Log-Likelihood:                         -5490.7\n",
            "No. Observations:                4157   AIC:                                  1.099e+04\n",
            "Df Residuals:                    4155   BIC:                                  1.100e+04\n",
            "Df Model:                           2                                                  \n",
            "Covariance Type:            nonrobust                                                  \n",
            "================================================================================\n",
            "                   coef    std err          t      P>|t|      [0.025      0.975]\n",
            "--------------------------------------------------------------------------------\n",
            "Critic_Score     0.0265      0.001     21.524      0.000       0.024       0.029\n",
            "user_x10        -0.0146      0.001    -12.494      0.000      -0.017      -0.012\n",
            "==============================================================================\n",
            "Omnibus:                     1535.215   Durbin-Watson:                   1.465\n",
            "Prob(Omnibus):                  0.000   Jarque-Bera (JB):             5134.471\n",
            "Skew:                           1.893   Prob(JB):                         0.00\n",
            "Kurtosis:                       6.913   Cond. No.                         12.2\n",
            "==============================================================================\n",
            "\n",
            "Warnings:\n",
            "[1] Standard Errors assume that the covariance matrix of the errors is correctly specified.\n"
          ],
          "name": "stdout"
        }
      ]
    },
    {
      "cell_type": "code",
      "metadata": {
        "colab": {
          "base_uri": "https://localhost:8080/"
        },
        "id": "SK7nL6Ieu7X5",
        "outputId": "9578f6ac-09f9-4ac0-c7b8-7abe760b042a"
      },
      "source": [
        "vg_over_5m = vg_no_plat[vg_no_plat['Global_Sales'] > 5]\n",
        "\n",
        "#GLS for games that have more than 5 million sales.\n",
        "vg_exog_small = vg_over_5m[['Critic_Score', 'user_x10']]\n",
        "vg_endog_small = vg_over_5m['Global_Sales']\n",
        "model = sm.regression.linear_model.GLS(vg_endog_small, vg_exog_small)\n",
        "results = model.fit()\n",
        "print(results.summary())\n",
        "over_5 = results.params"
      ],
      "execution_count": null,
      "outputs": [
        {
          "output_type": "stream",
          "text": [
            "                                 GLS Regression Results                                \n",
            "=======================================================================================\n",
            "Dep. Variable:           Global_Sales   R-squared (uncentered):                   0.724\n",
            "Model:                            GLS   Adj. R-squared (uncentered):              0.721\n",
            "Method:                 Least Squares   F-statistic:                              281.3\n",
            "Date:                Thu, 18 Mar 2021   Prob (F-statistic):                    9.52e-61\n",
            "Time:                        02:40:53   Log-Likelihood:                         -691.08\n",
            "No. Observations:                 217   AIC:                                      1386.\n",
            "Df Residuals:                     215   BIC:                                      1393.\n",
            "Df Model:                           2                                                  \n",
            "Covariance Type:            nonrobust                                                  \n",
            "================================================================================\n",
            "                   coef    std err          t      P>|t|      [0.025      0.975]\n",
            "--------------------------------------------------------------------------------\n",
            "Critic_Score     0.1891      0.033      5.721      0.000       0.124       0.254\n",
            "user_x10        -0.0835      0.036     -2.315      0.022      -0.155      -0.012\n",
            "==============================================================================\n",
            "Omnibus:                      113.631   Durbin-Watson:                   1.359\n",
            "Prob(Omnibus):                  0.000   Jarque-Bera (JB):              438.519\n",
            "Skew:                           2.227   Prob(JB):                     5.98e-96\n",
            "Kurtosis:                       8.354   Cond. No.                         13.7\n",
            "==============================================================================\n",
            "\n",
            "Warnings:\n",
            "[1] Standard Errors assume that the covariance matrix of the errors is correctly specified.\n"
          ],
          "name": "stdout"
        }
      ]
    },
    {
      "cell_type": "markdown",
      "metadata": {
        "id": "rt6TgiDevQqS"
      },
      "source": [
        "Now for games that have less than 1 million sales:"
      ]
    },
    {
      "cell_type": "code",
      "metadata": {
        "colab": {
          "base_uri": "https://localhost:8080/"
        },
        "id": "XRR_5urBvTiP",
        "outputId": "87989af6-c848-4010-c8e0-3f6683130d21"
      },
      "source": [
        "vg_under_1m = vg_no_plat[vg_no_plat['Global_Sales'] < 1]\n",
        "\n",
        "#GLS for games that have less than 1 million sales.\n",
        "vg_exog_small = vg_under_1m[['Critic_Score', 'user_x10']]\n",
        "vg_endog_small = vg_under_1m['Global_Sales']\n",
        "model = sm.regression.linear_model.GLS(vg_endog_small, vg_exog_small)\n",
        "results = model.fit()\n",
        "print(results.summary())\n",
        "under_1 = results.params"
      ],
      "execution_count": null,
      "outputs": [
        {
          "output_type": "stream",
          "text": [
            "                                 GLS Regression Results                                \n",
            "=======================================================================================\n",
            "Dep. Variable:           Global_Sales   R-squared (uncentered):                   0.581\n",
            "Model:                            GLS   Adj. R-squared (uncentered):              0.581\n",
            "Method:                 Least Squares   F-statistic:                              2160.\n",
            "Date:                Thu, 18 Mar 2021   Prob (F-statistic):                        0.00\n",
            "Time:                        02:40:53   Log-Likelihood:                         -125.75\n",
            "No. Observations:                3117   AIC:                                      255.5\n",
            "Df Residuals:                    3115   BIC:                                      267.6\n",
            "Df Model:                           2                                                  \n",
            "Covariance Type:            nonrobust                                                  \n",
            "================================================================================\n",
            "                   coef    std err          t      P>|t|      [0.025      0.975]\n",
            "--------------------------------------------------------------------------------\n",
            "Critic_Score     0.0043      0.000     10.657      0.000       0.004       0.005\n",
            "user_x10      6.672e-05      0.000      0.178      0.859      -0.001       0.001\n",
            "==============================================================================\n",
            "Omnibus:                      315.437   Durbin-Watson:                   1.663\n",
            "Prob(Omnibus):                  0.000   Jarque-Bera (JB):              420.106\n",
            "Skew:                           0.899   Prob(JB):                     5.96e-92\n",
            "Kurtosis:                       2.962   Cond. No.                         12.1\n",
            "==============================================================================\n",
            "\n",
            "Warnings:\n",
            "[1] Standard Errors assume that the covariance matrix of the errors is correctly specified.\n"
          ],
          "name": "stdout"
        }
      ]
    },
    {
      "cell_type": "code",
      "metadata": {
        "colab": {
          "base_uri": "https://localhost:8080/"
        },
        "id": "dqPn8b9LvYVA",
        "outputId": "e59b1215-9f85-4a5f-8f26-a90a7eed9072"
      },
      "source": [
        "vg_over_1m = vg_no_plat[vg_no_plat['Global_Sales'] > 1]\n",
        "\n",
        "#GLS for games that have more than 1 million sales.\n",
        "vg_exog_small = vg_over_1m[['Critic_Score', 'user_x10']]\n",
        "vg_endog_small = vg_over_1m['Global_Sales']\n",
        "model = sm.regression.linear_model.GLS(vg_endog_small, vg_exog_small)\n",
        "results = model.fit()\n",
        "print(results.summary())\n",
        "over_1 = results.params"
      ],
      "execution_count": null,
      "outputs": [
        {
          "output_type": "stream",
          "text": [
            "                                 GLS Regression Results                                \n",
            "=======================================================================================\n",
            "Dep. Variable:           Global_Sales   R-squared (uncentered):                   0.485\n",
            "Model:                            GLS   Adj. R-squared (uncentered):              0.484\n",
            "Method:                 Least Squares   F-statistic:                              587.5\n",
            "Date:                Thu, 18 Mar 2021   Prob (F-statistic):                   1.59e-180\n",
            "Time:                        02:40:53   Log-Likelihood:                         -3396.1\n",
            "No. Observations:                1250   AIC:                                      6796.\n",
            "Df Residuals:                    1248   BIC:                                      6807.\n",
            "Df Model:                           2                                                  \n",
            "Covariance Type:            nonrobust                                                  \n",
            "================================================================================\n",
            "                   coef    std err          t      P>|t|      [0.025      0.975]\n",
            "--------------------------------------------------------------------------------\n",
            "Critic_Score     0.1101      0.009     11.810      0.000       0.092       0.128\n",
            "user_x10        -0.0680      0.010     -7.101      0.000      -0.087      -0.049\n",
            "==============================================================================\n",
            "Omnibus:                     1077.162   Durbin-Watson:                   1.260\n",
            "Prob(Omnibus):                  0.000   Jarque-Bera (JB):            28982.048\n",
            "Skew:                           3.973   Prob(JB):                         0.00\n",
            "Kurtosis:                      25.211   Cond. No.                         14.0\n",
            "==============================================================================\n",
            "\n",
            "Warnings:\n",
            "[1] Standard Errors assume that the covariance matrix of the errors is correctly specified.\n"
          ],
          "name": "stdout"
        }
      ]
    },
    {
      "cell_type": "markdown",
      "metadata": {
        "id": "_QN6QLaCzrVL"
      },
      "source": [
        "And for games that have less than half a million sales:"
      ]
    },
    {
      "cell_type": "code",
      "metadata": {
        "colab": {
          "base_uri": "https://localhost:8080/"
        },
        "id": "m0Wzlri93Mz5",
        "outputId": "bddb5ed5-0049-4604-83eb-0c1a920b5a5c"
      },
      "source": [
        "vg_under_halfm = vg_no_plat[vg_no_plat['Global_Sales'] < 0.5]\n",
        "\n",
        "#GLS for games that have less than half a million sales.\n",
        "vg_exog_small = vg_under_halfm[['Critic_Score', 'user_x10']]\n",
        "vg_endog_small = vg_under_halfm['Global_Sales']\n",
        "model = sm.regression.linear_model.GLS(vg_endog_small, vg_exog_small)\n",
        "results = model.fit()\n",
        "print(results.summary())\n",
        "under_half = results.params"
      ],
      "execution_count": null,
      "outputs": [
        {
          "output_type": "stream",
          "text": [
            "                                 GLS Regression Results                                \n",
            "=======================================================================================\n",
            "Dep. Variable:           Global_Sales   R-squared (uncentered):                   0.649\n",
            "Model:                            GLS   Adj. R-squared (uncentered):              0.649\n",
            "Method:                 Least Squares   F-statistic:                              2245.\n",
            "Date:                Thu, 18 Mar 2021   Prob (F-statistic):                        0.00\n",
            "Time:                        02:40:53   Log-Likelihood:                          1483.5\n",
            "No. Observations:                2431   AIC:                                     -2963.\n",
            "Df Residuals:                    2429   BIC:                                     -2951.\n",
            "Df Model:                           2                                                  \n",
            "Covariance Type:            nonrobust                                                  \n",
            "================================================================================\n",
            "                   coef    std err          t      P>|t|      [0.025      0.975]\n",
            "--------------------------------------------------------------------------------\n",
            "Critic_Score     0.0019      0.000      8.041      0.000       0.001       0.002\n",
            "user_x10         0.0007      0.000      3.300      0.001       0.000       0.001\n",
            "==============================================================================\n",
            "Omnibus:                      172.523   Durbin-Watson:                   1.883\n",
            "Prob(Omnibus):                  0.000   Jarque-Bera (JB):              165.075\n",
            "Skew:                           0.581   Prob(JB):                     1.43e-36\n",
            "Kurtosis:                       2.472   Cond. No.                         11.8\n",
            "==============================================================================\n",
            "\n",
            "Warnings:\n",
            "[1] Standard Errors assume that the covariance matrix of the errors is correctly specified.\n"
          ],
          "name": "stdout"
        }
      ]
    },
    {
      "cell_type": "code",
      "metadata": {
        "colab": {
          "base_uri": "https://localhost:8080/"
        },
        "id": "hniJFPAn3Xu1",
        "outputId": "23e5d401-d72c-463a-eba9-3e97a5e0891b"
      },
      "source": [
        "vg_over_halfm = vg_no_plat[vg_no_plat['Global_Sales'] > 0.5]\n",
        "\n",
        "#GLS for games that have more than half a million sales.\n",
        "vg_exog_small = vg_over_halfm[['Critic_Score', 'user_x10']]\n",
        "vg_endog_small = vg_over_halfm['Global_Sales']\n",
        "model = sm.regression.linear_model.GLS(vg_endog_small, vg_exog_small)\n",
        "results = model.fit()\n",
        "print(results.summary())\n",
        "over_half = results.params"
      ],
      "execution_count": null,
      "outputs": [
        {
          "output_type": "stream",
          "text": [
            "                                 GLS Regression Results                                \n",
            "=======================================================================================\n",
            "Dep. Variable:           Global_Sales   R-squared (uncentered):                   0.415\n",
            "Model:                            GLS   Adj. R-squared (uncentered):              0.414\n",
            "Method:                 Least Squares   F-statistic:                              680.2\n",
            "Date:                Thu, 18 Mar 2021   Prob (F-statistic):                   5.09e-224\n",
            "Time:                        02:40:53   Log-Likelihood:                         -4939.4\n",
            "No. Observations:                1921   AIC:                                      9883.\n",
            "Df Residuals:                    1919   BIC:                                      9894.\n",
            "Df Model:                           2                                                  \n",
            "Covariance Type:            nonrobust                                                  \n",
            "================================================================================\n",
            "                   coef    std err          t      P>|t|      [0.025      0.975]\n",
            "--------------------------------------------------------------------------------\n",
            "Critic_Score     0.0974      0.006     15.223      0.000       0.085       0.110\n",
            "user_x10        -0.0643      0.006    -10.030      0.000      -0.077      -0.052\n",
            "==============================================================================\n",
            "Omnibus:                     1845.721   Durbin-Watson:                   1.331\n",
            "Prob(Omnibus):                  0.000   Jarque-Bera (JB):            82217.337\n",
            "Skew:                           4.593   Prob(JB):                         0.00\n",
            "Kurtosis:                      33.705   Cond. No.                         13.3\n",
            "==============================================================================\n",
            "\n",
            "Warnings:\n",
            "[1] Standard Errors assume that the covariance matrix of the errors is correctly specified.\n"
          ],
          "name": "stdout"
        }
      ]
    },
    {
      "cell_type": "code",
      "metadata": {
        "colab": {
          "base_uri": "https://localhost:8080/"
        },
        "id": "sPZQR7L-v4Yo",
        "outputId": "fe884693-a984-41d6-e7aa-7cf8837d1423"
      },
      "source": [
        "print('Under 5 million sales:\\n', under_5, '\\n')\n",
        "print('Over 5 million sales:\\n', over_5, '\\n')\n",
        "print('Under 1 million sales:\\n', under_1, '\\n')\n",
        "print('Over 1 million sales:\\n', over_1, '\\n')\n",
        "print('Under half a million sales:\\n', under_half, '\\n')\n",
        "print('Over half a million sales:\\n', over_half, '\\n')"
      ],
      "execution_count": null,
      "outputs": [
        {
          "output_type": "stream",
          "text": [
            "Under 5 million sales:\n",
            " Critic_Score    0.026491\n",
            "user_x10       -0.014631\n",
            "dtype: float64 \n",
            "\n",
            "Over 5 million sales:\n",
            " Critic_Score    0.189131\n",
            "user_x10       -0.083520\n",
            "dtype: float64 \n",
            "\n",
            "Under 1 million sales:\n",
            " Critic_Score    0.004296\n",
            "user_x10        0.000067\n",
            "dtype: float64 \n",
            "\n",
            "Over 1 million sales:\n",
            " Critic_Score    0.110115\n",
            "user_x10       -0.067993\n",
            "dtype: float64 \n",
            "\n",
            "Under half a million sales:\n",
            " Critic_Score    0.001894\n",
            "user_x10        0.000717\n",
            "dtype: float64 \n",
            "\n",
            "Over half a million sales:\n",
            " Critic_Score    0.097411\n",
            "user_x10       -0.064304\n",
            "dtype: float64 \n",
            "\n"
          ],
          "name": "stdout"
        }
      ]
    },
    {
      "cell_type": "markdown",
      "metadata": {
        "id": "TEwuh-Xsvnng"
      },
      "source": [
        "The results for splitting larger/smaller games at the 5 million sales mark are that critic score has a greater relation to larger games that it does on smaller games, with coefficients of 0.189 and 0.026 respectively. User score also has a greater relation to larger games than it does for smaller ones, with coefficients of -0.084 and -0.015 respectively. Critic score is more strongly related to sales numbers than user score is in both groups since its coefficients are greater in magnitude.\n",
        "\n",
        "For splitting larger/smaller games at the 1 million sales mark, critic score again has a greater relation to larger games than it does for smaller games, with coefficients of 0.110 and 0.004 respectively. User score has a greater relation to larger games in magnitude - it has a coefficient of -0.068 for larger games. However for smaller games it has a slight positive relationship, with a coefficient of 6.7e-5. Again, critic score has a stronger relationship to the sales numbers than user score does for both larger and smaller games.\n",
        "\n",
        "Splitting larger/smaller games at the half a million sales mark, the results are again similar to the previous two cases with the notable difference being that the user score coefficient for smaller games is greater than it was for the 1 million split, with a value of 7.2e-4 compared to 6.7e-5. "
      ]
    },
    {
      "cell_type": "markdown",
      "metadata": {
        "id": "FMED5nsuzCv1"
      },
      "source": [
        "# Conclusion & Discussion"
      ]
    },
    {
      "cell_type": "markdown",
      "metadata": {
        "id": "yviiSqvQ2kO5"
      },
      "source": [
        "**Conclusion**\n",
        "\n",
        "The results were than in all cases, critic score had a stronger, positive relationship to global sales numbers than user score did, which is contrary to our hypothesis that user score would have a stronger impact on sales than critic score. User score tended to have a negative relationship of low magnitude to global sales numbers. However, for games that had less than 1 million sales, there was a very small positive relationship between user score and sales numbers. Furthermore, for games that had less than half a million sales, the positive correlation increased by about a factor of 10 when compared to games under 1 million sales. This supports our proposed explanation for why user score was negatively correlated with global sales numbers: games with small playerbases would have players that were more devoted, or perhaps more forgiving of flaws, while games with large playerbases might have players that are not as dedicated, or have higher expectations and  thus more critical of flaws.  \n",
        "\n",
        "As for explaining the difference between the critic score and user score correlations, critic score most likely has a stronger relationship to sales numbers because many players will decided whether or not to buy the game based on critic reviews. User score's smaller magnitude correlation with sales numbers could be explained by the fact that it does not exist until after a game is released, while critics are normally allowed to post their reviews a few days before release. Also, some players may wait to buy the game after seeing what other players think about the game first. Another reason for why user score had a smaller correlation with sales numbers could be because there are more user ratings and critic ratings. The larger size of this population can lead to more variability with the user ratings, which then leads to less of a correlation between user rating and global sales. "
      ]
    },
    {
      "cell_type": "markdown",
      "metadata": {
        "id": "-Lm1f_wP2WPr"
      },
      "source": [
        "**Discussion and Limitations**\n",
        "\n",
        "For this project I did encounter a few limitations. For one, the dataset that I analyzed is from 2016 and prior, meaning that our analysis and predictor is possibly not accurate in relation to the games that are released and sold in the years up to current time. Especially with new consoles, such as the Nintendo Switch, and the ease of buying games through online stores, such as Steam, the relationship between user score, critic score, and global sales may have shifted in the past few years. Additionally, the number of releases of video games has progressively grown over the years with the overall quality of these games improving as well as the ease of purchasing digital copies of these games through online stores. Finally, our data is from Metacritic, which represents mostly English-speaking reviewers and can be missing data from well-known titles such as Super Mario Bros."
      ]
    },
    {
      "cell_type": "markdown",
      "metadata": {
        "id": "tqE4h9Df0_J3"
      },
      "source": [
        "**Impact**\n",
        "\n",
        "From our analysis on the relationship between critic score, user score, and global sales for video games, I concluded that critic score has a more influence over global sales than user score. With this information, video games producers and comapanies can design their game to be scored higher by critics since there is a significant positive relationship between global sales and critic scores. Additionally, due to the fact that critic scores come out before a game is actually released and being the only indication at the time about whether a game is good or not, developers can gauge if their game will likely be successful or not. All in all, our findings are nothing new to video game developers and that ultimately, games of good quality are responded well in both critic and user scores which drives sales in the end.  \n",
        "\n",
        "As for the comsumers of video games, from our study they can conclude that when shopping for a new game, in most cases high critic score correlates to high sales, and when a game has high sales it means it is a popular pick. Since there is a negative correlation between global sales and user score, potential buyers might be more wary since they may be disappointed by a popular game. Ergo by that logic consumers should lean more towards critic scores to find higher quality games, although like many other products consumers have copius amounts of variables when debating the purchase of a video game.   \n",
        "\n",
        "\n",
        "\n"
      ]
    },
    {
      "cell_type": "code",
      "metadata": {
        "id": "yyKgu-pfRDSN"
      },
      "source": [
        ""
      ],
      "execution_count": null,
      "outputs": []
    }
  ]
}